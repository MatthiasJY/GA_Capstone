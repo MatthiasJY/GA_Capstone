{
 "cells": [
  {
   "cell_type": "code",
   "execution_count": 1,
   "id": "7af97fb8-9527-466f-acf5-9dc093a3f1c2",
   "metadata": {},
   "outputs": [],
   "source": [
    "import pandas as pd\n",
    "\n",
    "orders = pd.read_csv('../OneDrive/Desktop/GA_Capstone_Datasets/olist_orders_dataset.csv')\n",
    "items = pd.read_csv('../OneDrive/Desktop/GA_Capstone_Datasets/olist_order_items_dataset.csv')\n",
    "payments = pd.read_csv('../OneDrive/Desktop/GA_Capstone_Datasets/olist_order_payments_dataset.csv')\n",
    "customers = pd.read_csv('../OneDrive/Desktop/GA_Capstone_Datasets/olist_customers_dataset.csv')\n",
    "locations = pd.read_csv('../OneDrive/Desktop/GA_Capstone_Datasets/olist_geolocation_dataset.csv')\n",
    "products = pd.read_csv('../OneDrive/Desktop/GA_Capstone_Datasets/olist_products_dataset.csv')\n",
    "translation = pd.read_csv('../OneDrive/Desktop/GA_Capstone_Datasets/product_category_name_translation.csv')"
   ]
  },
  {
   "cell_type": "code",
   "execution_count": 2,
   "id": "021f73ae-faa3-49a3-8ffd-c555934dc686",
   "metadata": {
    "scrolled": true
   },
   "outputs": [
    {
     "data": {
      "text/html": [
       "<div>\n",
       "<style scoped>\n",
       "    .dataframe tbody tr th:only-of-type {\n",
       "        vertical-align: middle;\n",
       "    }\n",
       "\n",
       "    .dataframe tbody tr th {\n",
       "        vertical-align: top;\n",
       "    }\n",
       "\n",
       "    .dataframe thead th {\n",
       "        text-align: right;\n",
       "    }\n",
       "</style>\n",
       "<table border=\"1\" class=\"dataframe\">\n",
       "  <thead>\n",
       "    <tr style=\"text-align: right;\">\n",
       "      <th></th>\n",
       "      <th>product_category_name</th>\n",
       "      <th>product_category_name_english</th>\n",
       "    </tr>\n",
       "  </thead>\n",
       "  <tbody>\n",
       "    <tr>\n",
       "      <th>0</th>\n",
       "      <td>beleza_saude</td>\n",
       "      <td>health_beauty</td>\n",
       "    </tr>\n",
       "    <tr>\n",
       "      <th>1</th>\n",
       "      <td>informatica_acessorios</td>\n",
       "      <td>computers_accessories</td>\n",
       "    </tr>\n",
       "    <tr>\n",
       "      <th>2</th>\n",
       "      <td>automotivo</td>\n",
       "      <td>auto</td>\n",
       "    </tr>\n",
       "    <tr>\n",
       "      <th>3</th>\n",
       "      <td>cama_mesa_banho</td>\n",
       "      <td>bed_bath_table</td>\n",
       "    </tr>\n",
       "    <tr>\n",
       "      <th>4</th>\n",
       "      <td>moveis_decoracao</td>\n",
       "      <td>furniture_decor</td>\n",
       "    </tr>\n",
       "  </tbody>\n",
       "</table>\n",
       "</div>"
      ],
      "text/plain": [
       "    product_category_name product_category_name_english\n",
       "0            beleza_saude                 health_beauty\n",
       "1  informatica_acessorios         computers_accessories\n",
       "2              automotivo                          auto\n",
       "3         cama_mesa_banho                bed_bath_table\n",
       "4        moveis_decoracao               furniture_decor"
      ]
     },
     "execution_count": 2,
     "metadata": {},
     "output_type": "execute_result"
    }
   ],
   "source": [
    "# Adding the new rows\n",
    "translation.loc[len(translation)] = ['portateis_cozinha_e_preparadores_de_alimentos', 'kitchen_laptops_and_food_preparators']  # Add the first word and translation\n",
    "translation.loc[len(translation)] = ['pc_gamer', 'pc_gamer']        # Add the second word and translation\n",
    "\n",
    "pd.set_option('display.max_row', None)\n",
    "\n",
    "translation.head()\n"
   ]
  },
  {
   "cell_type": "code",
   "execution_count": 3,
   "id": "ef6146c9-76fd-4405-8959-fde201138d39",
   "metadata": {},
   "outputs": [],
   "source": [
    "products2 = products.dropna()\n",
    "orders2 = orders.dropna()"
   ]
  },
  {
   "cell_type": "code",
   "execution_count": 4,
   "id": "198ae36a-1bbb-49e8-a65e-164bc7d5e95d",
   "metadata": {},
   "outputs": [
    {
     "name": "stdout",
     "output_type": "stream",
     "text": [
      "(32340, 9)\n",
      "(96461, 8)\n"
     ]
    }
   ],
   "source": [
    "print(products2.shape)\n",
    "print(orders2.shape)"
   ]
  },
  {
   "cell_type": "code",
   "execution_count": 5,
   "id": "bec2e159-a630-42cc-a06e-d99bf784c592",
   "metadata": {},
   "outputs": [],
   "source": [
    "products3 = pd.merge(products2, translation, on='product_category_name', how='left')\n",
    "products3['product_category_name'] = products3['product_category_name_english'].combine_first(products3['product_category_name'])\n",
    "\n",
    "products3 = products3.drop(columns=['product_category_name_english'])\n",
    "products3.head()\n",
    "\n",
    "products3.to_csv('products_clean.csv')"
   ]
  },
  {
   "cell_type": "code",
   "execution_count": 6,
   "id": "5cfd8d50-5d9e-48ac-864e-44bb324554a6",
   "metadata": {},
   "outputs": [
    {
     "data": {
      "text/plain": [
       "(32340, 2)"
      ]
     },
     "execution_count": 6,
     "metadata": {},
     "output_type": "execute_result"
    }
   ],
   "source": [
    "prod_impt = products3[['product_id', 'product_category_name']]\n",
    "prod_impt.shape"
   ]
  },
  {
   "cell_type": "code",
   "execution_count": 7,
   "id": "fa1006c2-39ab-467f-b0bc-9b7e7ee32303",
   "metadata": {},
   "outputs": [
    {
     "data": {
      "text/html": [
       "<div>\n",
       "<style scoped>\n",
       "    .dataframe tbody tr th:only-of-type {\n",
       "        vertical-align: middle;\n",
       "    }\n",
       "\n",
       "    .dataframe tbody tr th {\n",
       "        vertical-align: top;\n",
       "    }\n",
       "\n",
       "    .dataframe thead th {\n",
       "        text-align: right;\n",
       "    }\n",
       "</style>\n",
       "<table border=\"1\" class=\"dataframe\">\n",
       "  <thead>\n",
       "    <tr style=\"text-align: right;\">\n",
       "      <th></th>\n",
       "      <th>order_id</th>\n",
       "      <th>order_item_id</th>\n",
       "      <th>product_id</th>\n",
       "      <th>seller_id</th>\n",
       "      <th>shipping_limit_date</th>\n",
       "      <th>price</th>\n",
       "      <th>freight_value</th>\n",
       "      <th>product_category_name</th>\n",
       "    </tr>\n",
       "  </thead>\n",
       "  <tbody>\n",
       "    <tr>\n",
       "      <th>0</th>\n",
       "      <td>00010242fe8c5a6d1ba2dd792cb16214</td>\n",
       "      <td>1</td>\n",
       "      <td>4244733e06e7ecb4970a6e2683c13e61</td>\n",
       "      <td>48436dade18ac8b2bce089ec2a041202</td>\n",
       "      <td>2017-09-19 09:45:35</td>\n",
       "      <td>58.90</td>\n",
       "      <td>13.29</td>\n",
       "      <td>cool_stuff</td>\n",
       "    </tr>\n",
       "    <tr>\n",
       "      <th>1</th>\n",
       "      <td>00018f77f2f0320c557190d7a144bdd3</td>\n",
       "      <td>1</td>\n",
       "      <td>e5f2d52b802189ee658865ca93d83a8f</td>\n",
       "      <td>dd7ddc04e1b6c2c614352b383efe2d36</td>\n",
       "      <td>2017-05-03 11:05:13</td>\n",
       "      <td>239.90</td>\n",
       "      <td>19.93</td>\n",
       "      <td>pet_shop</td>\n",
       "    </tr>\n",
       "    <tr>\n",
       "      <th>2</th>\n",
       "      <td>000229ec398224ef6ca0657da4fc703e</td>\n",
       "      <td>1</td>\n",
       "      <td>c777355d18b72b67abbeef9df44fd0fd</td>\n",
       "      <td>5b51032eddd242adc84c38acab88f23d</td>\n",
       "      <td>2018-01-18 14:48:30</td>\n",
       "      <td>199.00</td>\n",
       "      <td>17.87</td>\n",
       "      <td>furniture_decor</td>\n",
       "    </tr>\n",
       "    <tr>\n",
       "      <th>3</th>\n",
       "      <td>00024acbcdf0a6daa1e931b038114c75</td>\n",
       "      <td>1</td>\n",
       "      <td>7634da152a4610f1595efa32f14722fc</td>\n",
       "      <td>9d7a1d34a5052409006425275ba1c2b4</td>\n",
       "      <td>2018-08-15 10:10:18</td>\n",
       "      <td>12.99</td>\n",
       "      <td>12.79</td>\n",
       "      <td>perfumery</td>\n",
       "    </tr>\n",
       "    <tr>\n",
       "      <th>4</th>\n",
       "      <td>00042b26cf59d7ce69dfabb4e55b4fd9</td>\n",
       "      <td>1</td>\n",
       "      <td>ac6c3623068f30de03045865e4e10089</td>\n",
       "      <td>df560393f3a51e74553ab94004ba5c87</td>\n",
       "      <td>2017-02-13 13:57:51</td>\n",
       "      <td>199.90</td>\n",
       "      <td>18.14</td>\n",
       "      <td>garden_tools</td>\n",
       "    </tr>\n",
       "  </tbody>\n",
       "</table>\n",
       "</div>"
      ],
      "text/plain": [
       "                           order_id  order_item_id  \\\n",
       "0  00010242fe8c5a6d1ba2dd792cb16214              1   \n",
       "1  00018f77f2f0320c557190d7a144bdd3              1   \n",
       "2  000229ec398224ef6ca0657da4fc703e              1   \n",
       "3  00024acbcdf0a6daa1e931b038114c75              1   \n",
       "4  00042b26cf59d7ce69dfabb4e55b4fd9              1   \n",
       "\n",
       "                         product_id                         seller_id  \\\n",
       "0  4244733e06e7ecb4970a6e2683c13e61  48436dade18ac8b2bce089ec2a041202   \n",
       "1  e5f2d52b802189ee658865ca93d83a8f  dd7ddc04e1b6c2c614352b383efe2d36   \n",
       "2  c777355d18b72b67abbeef9df44fd0fd  5b51032eddd242adc84c38acab88f23d   \n",
       "3  7634da152a4610f1595efa32f14722fc  9d7a1d34a5052409006425275ba1c2b4   \n",
       "4  ac6c3623068f30de03045865e4e10089  df560393f3a51e74553ab94004ba5c87   \n",
       "\n",
       "   shipping_limit_date   price  freight_value product_category_name  \n",
       "0  2017-09-19 09:45:35   58.90          13.29            cool_stuff  \n",
       "1  2017-05-03 11:05:13  239.90          19.93              pet_shop  \n",
       "2  2018-01-18 14:48:30  199.00          17.87       furniture_decor  \n",
       "3  2018-08-15 10:10:18   12.99          12.79             perfumery  \n",
       "4  2017-02-13 13:57:51  199.90          18.14          garden_tools  "
      ]
     },
     "execution_count": 7,
     "metadata": {},
     "output_type": "execute_result"
    }
   ],
   "source": [
    "items2 = pd.merge(items, prod_impt, on='product_id', how='left')\n",
    "items2.head()"
   ]
  },
  {
   "cell_type": "code",
   "execution_count": 8,
   "id": "50784bde-95cc-4343-a331-5913ba2c4667",
   "metadata": {},
   "outputs": [
    {
     "data": {
      "text/html": [
       "<div>\n",
       "<style scoped>\n",
       "    .dataframe tbody tr th:only-of-type {\n",
       "        vertical-align: middle;\n",
       "    }\n",
       "\n",
       "    .dataframe tbody tr th {\n",
       "        vertical-align: top;\n",
       "    }\n",
       "\n",
       "    .dataframe thead th {\n",
       "        text-align: right;\n",
       "    }\n",
       "</style>\n",
       "<table border=\"1\" class=\"dataframe\">\n",
       "  <thead>\n",
       "    <tr style=\"text-align: right;\">\n",
       "      <th></th>\n",
       "      <th>order_id</th>\n",
       "      <th>product_id</th>\n",
       "      <th>price</th>\n",
       "      <th>product_category_name</th>\n",
       "    </tr>\n",
       "  </thead>\n",
       "  <tbody>\n",
       "    <tr>\n",
       "      <th>0</th>\n",
       "      <td>00010242fe8c5a6d1ba2dd792cb16214</td>\n",
       "      <td>4244733e06e7ecb4970a6e2683c13e61</td>\n",
       "      <td>58.90</td>\n",
       "      <td>cool_stuff</td>\n",
       "    </tr>\n",
       "    <tr>\n",
       "      <th>1</th>\n",
       "      <td>00018f77f2f0320c557190d7a144bdd3</td>\n",
       "      <td>e5f2d52b802189ee658865ca93d83a8f</td>\n",
       "      <td>239.90</td>\n",
       "      <td>pet_shop</td>\n",
       "    </tr>\n",
       "    <tr>\n",
       "      <th>2</th>\n",
       "      <td>000229ec398224ef6ca0657da4fc703e</td>\n",
       "      <td>c777355d18b72b67abbeef9df44fd0fd</td>\n",
       "      <td>199.00</td>\n",
       "      <td>furniture_decor</td>\n",
       "    </tr>\n",
       "    <tr>\n",
       "      <th>3</th>\n",
       "      <td>00024acbcdf0a6daa1e931b038114c75</td>\n",
       "      <td>7634da152a4610f1595efa32f14722fc</td>\n",
       "      <td>12.99</td>\n",
       "      <td>perfumery</td>\n",
       "    </tr>\n",
       "    <tr>\n",
       "      <th>4</th>\n",
       "      <td>00042b26cf59d7ce69dfabb4e55b4fd9</td>\n",
       "      <td>ac6c3623068f30de03045865e4e10089</td>\n",
       "      <td>199.90</td>\n",
       "      <td>garden_tools</td>\n",
       "    </tr>\n",
       "  </tbody>\n",
       "</table>\n",
       "</div>"
      ],
      "text/plain": [
       "                           order_id                        product_id   price  \\\n",
       "0  00010242fe8c5a6d1ba2dd792cb16214  4244733e06e7ecb4970a6e2683c13e61   58.90   \n",
       "1  00018f77f2f0320c557190d7a144bdd3  e5f2d52b802189ee658865ca93d83a8f  239.90   \n",
       "2  000229ec398224ef6ca0657da4fc703e  c777355d18b72b67abbeef9df44fd0fd  199.00   \n",
       "3  00024acbcdf0a6daa1e931b038114c75  7634da152a4610f1595efa32f14722fc   12.99   \n",
       "4  00042b26cf59d7ce69dfabb4e55b4fd9  ac6c3623068f30de03045865e4e10089  199.90   \n",
       "\n",
       "  product_category_name  \n",
       "0            cool_stuff  \n",
       "1              pet_shop  \n",
       "2       furniture_decor  \n",
       "3             perfumery  \n",
       "4          garden_tools  "
      ]
     },
     "execution_count": 8,
     "metadata": {},
     "output_type": "execute_result"
    }
   ],
   "source": [
    "items3 = items2.drop(columns=['order_item_id', 'seller_id', 'shipping_limit_date', 'freight_value'])\n",
    "items3.head()"
   ]
  },
  {
   "cell_type": "code",
   "execution_count": 9,
   "id": "47c30c21-6f43-42c9-94d8-ca99566c5ab0",
   "metadata": {},
   "outputs": [
    {
     "data": {
      "text/html": [
       "<div>\n",
       "<style scoped>\n",
       "    .dataframe tbody tr th:only-of-type {\n",
       "        vertical-align: middle;\n",
       "    }\n",
       "\n",
       "    .dataframe tbody tr th {\n",
       "        vertical-align: top;\n",
       "    }\n",
       "\n",
       "    .dataframe thead th {\n",
       "        text-align: right;\n",
       "    }\n",
       "</style>\n",
       "<table border=\"1\" class=\"dataframe\">\n",
       "  <thead>\n",
       "    <tr style=\"text-align: right;\">\n",
       "      <th></th>\n",
       "      <th>order_id</th>\n",
       "      <th>customer_id</th>\n",
       "      <th>order_status</th>\n",
       "      <th>order_purchase_timestamp</th>\n",
       "      <th>order_approved_at</th>\n",
       "      <th>order_delivered_carrier_date</th>\n",
       "      <th>order_delivered_customer_date</th>\n",
       "      <th>order_estimated_delivery_date</th>\n",
       "      <th>product_id</th>\n",
       "      <th>price</th>\n",
       "      <th>product_category_name</th>\n",
       "    </tr>\n",
       "  </thead>\n",
       "  <tbody>\n",
       "    <tr>\n",
       "      <th>0</th>\n",
       "      <td>e481f51cbdc54678b7cc49136f2d6af7</td>\n",
       "      <td>9ef432eb6251297304e76186b10a928d</td>\n",
       "      <td>delivered</td>\n",
       "      <td>2017-10-02 10:56:33</td>\n",
       "      <td>2017-10-02 11:07:15</td>\n",
       "      <td>2017-10-04 19:55:00</td>\n",
       "      <td>2017-10-10 21:25:13</td>\n",
       "      <td>2017-10-18 00:00:00</td>\n",
       "      <td>87285b34884572647811a353c7ac498a</td>\n",
       "      <td>29.99</td>\n",
       "      <td>housewares</td>\n",
       "    </tr>\n",
       "    <tr>\n",
       "      <th>1</th>\n",
       "      <td>53cdb2fc8bc7dce0b6741e2150273451</td>\n",
       "      <td>b0830fb4747a6c6d20dea0b8c802d7ef</td>\n",
       "      <td>delivered</td>\n",
       "      <td>2018-07-24 20:41:37</td>\n",
       "      <td>2018-07-26 03:24:27</td>\n",
       "      <td>2018-07-26 14:31:00</td>\n",
       "      <td>2018-08-07 15:27:45</td>\n",
       "      <td>2018-08-13 00:00:00</td>\n",
       "      <td>595fac2a385ac33a80bd5114aec74eb8</td>\n",
       "      <td>118.70</td>\n",
       "      <td>perfumery</td>\n",
       "    </tr>\n",
       "    <tr>\n",
       "      <th>2</th>\n",
       "      <td>47770eb9100c2d0c44946d9cf07ec65d</td>\n",
       "      <td>41ce2a54c0b03bf3443c3d931a367089</td>\n",
       "      <td>delivered</td>\n",
       "      <td>2018-08-08 08:38:49</td>\n",
       "      <td>2018-08-08 08:55:23</td>\n",
       "      <td>2018-08-08 13:50:00</td>\n",
       "      <td>2018-08-17 18:06:29</td>\n",
       "      <td>2018-09-04 00:00:00</td>\n",
       "      <td>aa4383b373c6aca5d8797843e5594415</td>\n",
       "      <td>159.90</td>\n",
       "      <td>auto</td>\n",
       "    </tr>\n",
       "    <tr>\n",
       "      <th>3</th>\n",
       "      <td>949d5b44dbf5de918fe9c16f97b45f8a</td>\n",
       "      <td>f88197465ea7920adcdbec7375364d82</td>\n",
       "      <td>delivered</td>\n",
       "      <td>2017-11-18 19:28:06</td>\n",
       "      <td>2017-11-18 19:45:59</td>\n",
       "      <td>2017-11-22 13:39:59</td>\n",
       "      <td>2017-12-02 00:28:42</td>\n",
       "      <td>2017-12-15 00:00:00</td>\n",
       "      <td>d0b61bfb1de832b15ba9d266ca96e5b0</td>\n",
       "      <td>45.00</td>\n",
       "      <td>pet_shop</td>\n",
       "    </tr>\n",
       "    <tr>\n",
       "      <th>4</th>\n",
       "      <td>ad21c59c0840e6cb83a9ceb5573f8159</td>\n",
       "      <td>8ab97904e6daea8866dbdbc4fb7aad2c</td>\n",
       "      <td>delivered</td>\n",
       "      <td>2018-02-13 21:18:39</td>\n",
       "      <td>2018-02-13 22:20:29</td>\n",
       "      <td>2018-02-14 19:46:34</td>\n",
       "      <td>2018-02-16 18:17:02</td>\n",
       "      <td>2018-02-26 00:00:00</td>\n",
       "      <td>65266b2da20d04dbe00c5c2d3bb7859e</td>\n",
       "      <td>19.90</td>\n",
       "      <td>stationery</td>\n",
       "    </tr>\n",
       "  </tbody>\n",
       "</table>\n",
       "</div>"
      ],
      "text/plain": [
       "                           order_id                       customer_id  \\\n",
       "0  e481f51cbdc54678b7cc49136f2d6af7  9ef432eb6251297304e76186b10a928d   \n",
       "1  53cdb2fc8bc7dce0b6741e2150273451  b0830fb4747a6c6d20dea0b8c802d7ef   \n",
       "2  47770eb9100c2d0c44946d9cf07ec65d  41ce2a54c0b03bf3443c3d931a367089   \n",
       "3  949d5b44dbf5de918fe9c16f97b45f8a  f88197465ea7920adcdbec7375364d82   \n",
       "4  ad21c59c0840e6cb83a9ceb5573f8159  8ab97904e6daea8866dbdbc4fb7aad2c   \n",
       "\n",
       "  order_status order_purchase_timestamp    order_approved_at  \\\n",
       "0    delivered      2017-10-02 10:56:33  2017-10-02 11:07:15   \n",
       "1    delivered      2018-07-24 20:41:37  2018-07-26 03:24:27   \n",
       "2    delivered      2018-08-08 08:38:49  2018-08-08 08:55:23   \n",
       "3    delivered      2017-11-18 19:28:06  2017-11-18 19:45:59   \n",
       "4    delivered      2018-02-13 21:18:39  2018-02-13 22:20:29   \n",
       "\n",
       "  order_delivered_carrier_date order_delivered_customer_date  \\\n",
       "0          2017-10-04 19:55:00           2017-10-10 21:25:13   \n",
       "1          2018-07-26 14:31:00           2018-08-07 15:27:45   \n",
       "2          2018-08-08 13:50:00           2018-08-17 18:06:29   \n",
       "3          2017-11-22 13:39:59           2017-12-02 00:28:42   \n",
       "4          2018-02-14 19:46:34           2018-02-16 18:17:02   \n",
       "\n",
       "  order_estimated_delivery_date                        product_id   price  \\\n",
       "0           2017-10-18 00:00:00  87285b34884572647811a353c7ac498a   29.99   \n",
       "1           2018-08-13 00:00:00  595fac2a385ac33a80bd5114aec74eb8  118.70   \n",
       "2           2018-09-04 00:00:00  aa4383b373c6aca5d8797843e5594415  159.90   \n",
       "3           2017-12-15 00:00:00  d0b61bfb1de832b15ba9d266ca96e5b0   45.00   \n",
       "4           2018-02-26 00:00:00  65266b2da20d04dbe00c5c2d3bb7859e   19.90   \n",
       "\n",
       "  product_category_name  \n",
       "0            housewares  \n",
       "1             perfumery  \n",
       "2                  auto  \n",
       "3              pet_shop  \n",
       "4            stationery  "
      ]
     },
     "execution_count": 9,
     "metadata": {},
     "output_type": "execute_result"
    }
   ],
   "source": [
    "order_item = pd.merge(orders2, items3, on='order_id', how='inner')\n",
    "\n",
    "order_item = order_item.dropna()\n",
    "order_item.head()"
   ]
  },
  {
   "cell_type": "code",
   "execution_count": 10,
   "id": "9fb885f8-40ac-4d80-8e17-34f9e622fa3b",
   "metadata": {},
   "outputs": [
    {
     "data": {
      "text/html": [
       "<div>\n",
       "<style scoped>\n",
       "    .dataframe tbody tr th:only-of-type {\n",
       "        vertical-align: middle;\n",
       "    }\n",
       "\n",
       "    .dataframe tbody tr th {\n",
       "        vertical-align: top;\n",
       "    }\n",
       "\n",
       "    .dataframe thead th {\n",
       "        text-align: right;\n",
       "    }\n",
       "</style>\n",
       "<table border=\"1\" class=\"dataframe\">\n",
       "  <thead>\n",
       "    <tr style=\"text-align: right;\">\n",
       "      <th></th>\n",
       "      <th>order_id</th>\n",
       "      <th>customer_id</th>\n",
       "      <th>order_purchase_timestamp</th>\n",
       "      <th>product_id</th>\n",
       "      <th>price</th>\n",
       "      <th>product_category_name</th>\n",
       "    </tr>\n",
       "  </thead>\n",
       "  <tbody>\n",
       "    <tr>\n",
       "      <th>0</th>\n",
       "      <td>e481f51cbdc54678b7cc49136f2d6af7</td>\n",
       "      <td>9ef432eb6251297304e76186b10a928d</td>\n",
       "      <td>2017-10-02 10:56:33</td>\n",
       "      <td>87285b34884572647811a353c7ac498a</td>\n",
       "      <td>29.99</td>\n",
       "      <td>housewares</td>\n",
       "    </tr>\n",
       "    <tr>\n",
       "      <th>1</th>\n",
       "      <td>53cdb2fc8bc7dce0b6741e2150273451</td>\n",
       "      <td>b0830fb4747a6c6d20dea0b8c802d7ef</td>\n",
       "      <td>2018-07-24 20:41:37</td>\n",
       "      <td>595fac2a385ac33a80bd5114aec74eb8</td>\n",
       "      <td>118.70</td>\n",
       "      <td>perfumery</td>\n",
       "    </tr>\n",
       "    <tr>\n",
       "      <th>2</th>\n",
       "      <td>47770eb9100c2d0c44946d9cf07ec65d</td>\n",
       "      <td>41ce2a54c0b03bf3443c3d931a367089</td>\n",
       "      <td>2018-08-08 08:38:49</td>\n",
       "      <td>aa4383b373c6aca5d8797843e5594415</td>\n",
       "      <td>159.90</td>\n",
       "      <td>auto</td>\n",
       "    </tr>\n",
       "    <tr>\n",
       "      <th>3</th>\n",
       "      <td>949d5b44dbf5de918fe9c16f97b45f8a</td>\n",
       "      <td>f88197465ea7920adcdbec7375364d82</td>\n",
       "      <td>2017-11-18 19:28:06</td>\n",
       "      <td>d0b61bfb1de832b15ba9d266ca96e5b0</td>\n",
       "      <td>45.00</td>\n",
       "      <td>pet_shop</td>\n",
       "    </tr>\n",
       "    <tr>\n",
       "      <th>4</th>\n",
       "      <td>ad21c59c0840e6cb83a9ceb5573f8159</td>\n",
       "      <td>8ab97904e6daea8866dbdbc4fb7aad2c</td>\n",
       "      <td>2018-02-13 21:18:39</td>\n",
       "      <td>65266b2da20d04dbe00c5c2d3bb7859e</td>\n",
       "      <td>19.90</td>\n",
       "      <td>stationery</td>\n",
       "    </tr>\n",
       "  </tbody>\n",
       "</table>\n",
       "</div>"
      ],
      "text/plain": [
       "                           order_id                       customer_id  \\\n",
       "0  e481f51cbdc54678b7cc49136f2d6af7  9ef432eb6251297304e76186b10a928d   \n",
       "1  53cdb2fc8bc7dce0b6741e2150273451  b0830fb4747a6c6d20dea0b8c802d7ef   \n",
       "2  47770eb9100c2d0c44946d9cf07ec65d  41ce2a54c0b03bf3443c3d931a367089   \n",
       "3  949d5b44dbf5de918fe9c16f97b45f8a  f88197465ea7920adcdbec7375364d82   \n",
       "4  ad21c59c0840e6cb83a9ceb5573f8159  8ab97904e6daea8866dbdbc4fb7aad2c   \n",
       "\n",
       "  order_purchase_timestamp                        product_id   price  \\\n",
       "0      2017-10-02 10:56:33  87285b34884572647811a353c7ac498a   29.99   \n",
       "1      2018-07-24 20:41:37  595fac2a385ac33a80bd5114aec74eb8  118.70   \n",
       "2      2018-08-08 08:38:49  aa4383b373c6aca5d8797843e5594415  159.90   \n",
       "3      2017-11-18 19:28:06  d0b61bfb1de832b15ba9d266ca96e5b0   45.00   \n",
       "4      2018-02-13 21:18:39  65266b2da20d04dbe00c5c2d3bb7859e   19.90   \n",
       "\n",
       "  product_category_name  \n",
       "0            housewares  \n",
       "1             perfumery  \n",
       "2                  auto  \n",
       "3              pet_shop  \n",
       "4            stationery  "
      ]
     },
     "execution_count": 10,
     "metadata": {},
     "output_type": "execute_result"
    }
   ],
   "source": [
    "order_item2 = order_item.drop(columns=['order_status', 'order_approved_at', \n",
    "                                       'order_delivered_carrier_date','order_delivered_customer_date', \n",
    "                                       'order_estimated_delivery_date'])\n",
    "\n",
    "order_item2.head()"
   ]
  },
  {
   "cell_type": "code",
   "execution_count": 11,
   "id": "a94f4bda-1248-47ec-8e77-bfaaccd3a1c7",
   "metadata": {},
   "outputs": [
    {
     "data": {
      "text/html": [
       "<div>\n",
       "<style scoped>\n",
       "    .dataframe tbody tr th:only-of-type {\n",
       "        vertical-align: middle;\n",
       "    }\n",
       "\n",
       "    .dataframe tbody tr th {\n",
       "        vertical-align: top;\n",
       "    }\n",
       "\n",
       "    .dataframe thead th {\n",
       "        text-align: right;\n",
       "    }\n",
       "</style>\n",
       "<table border=\"1\" class=\"dataframe\">\n",
       "  <thead>\n",
       "    <tr style=\"text-align: right;\">\n",
       "      <th></th>\n",
       "      <th>order_id</th>\n",
       "      <th>customer_id</th>\n",
       "      <th>order_purchase_timestamp</th>\n",
       "      <th>product_id</th>\n",
       "      <th>price</th>\n",
       "      <th>product_category_name</th>\n",
       "      <th>customer_unique_id</th>\n",
       "      <th>customer_state</th>\n",
       "    </tr>\n",
       "  </thead>\n",
       "  <tbody>\n",
       "    <tr>\n",
       "      <th>0</th>\n",
       "      <td>e481f51cbdc54678b7cc49136f2d6af7</td>\n",
       "      <td>9ef432eb6251297304e76186b10a928d</td>\n",
       "      <td>2017-10-02 10:56:33</td>\n",
       "      <td>87285b34884572647811a353c7ac498a</td>\n",
       "      <td>29.99</td>\n",
       "      <td>housewares</td>\n",
       "      <td>7c396fd4830fd04220f754e42b4e5bff</td>\n",
       "      <td>SP</td>\n",
       "    </tr>\n",
       "    <tr>\n",
       "      <th>1</th>\n",
       "      <td>53cdb2fc8bc7dce0b6741e2150273451</td>\n",
       "      <td>b0830fb4747a6c6d20dea0b8c802d7ef</td>\n",
       "      <td>2018-07-24 20:41:37</td>\n",
       "      <td>595fac2a385ac33a80bd5114aec74eb8</td>\n",
       "      <td>118.70</td>\n",
       "      <td>perfumery</td>\n",
       "      <td>af07308b275d755c9edb36a90c618231</td>\n",
       "      <td>BA</td>\n",
       "    </tr>\n",
       "    <tr>\n",
       "      <th>2</th>\n",
       "      <td>47770eb9100c2d0c44946d9cf07ec65d</td>\n",
       "      <td>41ce2a54c0b03bf3443c3d931a367089</td>\n",
       "      <td>2018-08-08 08:38:49</td>\n",
       "      <td>aa4383b373c6aca5d8797843e5594415</td>\n",
       "      <td>159.90</td>\n",
       "      <td>auto</td>\n",
       "      <td>3a653a41f6f9fc3d2a113cf8398680e8</td>\n",
       "      <td>GO</td>\n",
       "    </tr>\n",
       "    <tr>\n",
       "      <th>3</th>\n",
       "      <td>949d5b44dbf5de918fe9c16f97b45f8a</td>\n",
       "      <td>f88197465ea7920adcdbec7375364d82</td>\n",
       "      <td>2017-11-18 19:28:06</td>\n",
       "      <td>d0b61bfb1de832b15ba9d266ca96e5b0</td>\n",
       "      <td>45.00</td>\n",
       "      <td>pet_shop</td>\n",
       "      <td>7c142cf63193a1473d2e66489a9ae977</td>\n",
       "      <td>RN</td>\n",
       "    </tr>\n",
       "    <tr>\n",
       "      <th>4</th>\n",
       "      <td>ad21c59c0840e6cb83a9ceb5573f8159</td>\n",
       "      <td>8ab97904e6daea8866dbdbc4fb7aad2c</td>\n",
       "      <td>2018-02-13 21:18:39</td>\n",
       "      <td>65266b2da20d04dbe00c5c2d3bb7859e</td>\n",
       "      <td>19.90</td>\n",
       "      <td>stationery</td>\n",
       "      <td>72632f0f9dd73dfee390c9b22eb56dd6</td>\n",
       "      <td>SP</td>\n",
       "    </tr>\n",
       "  </tbody>\n",
       "</table>\n",
       "</div>"
      ],
      "text/plain": [
       "                           order_id                       customer_id  \\\n",
       "0  e481f51cbdc54678b7cc49136f2d6af7  9ef432eb6251297304e76186b10a928d   \n",
       "1  53cdb2fc8bc7dce0b6741e2150273451  b0830fb4747a6c6d20dea0b8c802d7ef   \n",
       "2  47770eb9100c2d0c44946d9cf07ec65d  41ce2a54c0b03bf3443c3d931a367089   \n",
       "3  949d5b44dbf5de918fe9c16f97b45f8a  f88197465ea7920adcdbec7375364d82   \n",
       "4  ad21c59c0840e6cb83a9ceb5573f8159  8ab97904e6daea8866dbdbc4fb7aad2c   \n",
       "\n",
       "  order_purchase_timestamp                        product_id   price  \\\n",
       "0      2017-10-02 10:56:33  87285b34884572647811a353c7ac498a   29.99   \n",
       "1      2018-07-24 20:41:37  595fac2a385ac33a80bd5114aec74eb8  118.70   \n",
       "2      2018-08-08 08:38:49  aa4383b373c6aca5d8797843e5594415  159.90   \n",
       "3      2017-11-18 19:28:06  d0b61bfb1de832b15ba9d266ca96e5b0   45.00   \n",
       "4      2018-02-13 21:18:39  65266b2da20d04dbe00c5c2d3bb7859e   19.90   \n",
       "\n",
       "  product_category_name                customer_unique_id customer_state  \n",
       "0            housewares  7c396fd4830fd04220f754e42b4e5bff             SP  \n",
       "1             perfumery  af07308b275d755c9edb36a90c618231             BA  \n",
       "2                  auto  3a653a41f6f9fc3d2a113cf8398680e8             GO  \n",
       "3              pet_shop  7c142cf63193a1473d2e66489a9ae977             RN  \n",
       "4            stationery  72632f0f9dd73dfee390c9b22eb56dd6             SP  "
      ]
     },
     "execution_count": 11,
     "metadata": {},
     "output_type": "execute_result"
    }
   ],
   "source": [
    "cust_orders = pd.merge(order_item2, customers, on='customer_id', how='left')\n",
    "\n",
    "cust_orders2 = cust_orders.drop(columns=['customer_zip_code_prefix', 'customer_city'])\n",
    "\n",
    "cust_orders2.head()"
   ]
  },
  {
   "cell_type": "code",
   "execution_count": 12,
   "id": "61ce60ef-d450-44c7-9e25-dfbe381492f0",
   "metadata": {},
   "outputs": [
    {
     "name": "stdout",
     "output_type": "stream",
     "text": [
      "<class 'pandas.core.frame.DataFrame'>\n",
      "RangeIndex: 108643 entries, 0 to 108642\n",
      "Data columns (total 8 columns):\n",
      " #   Column                    Non-Null Count   Dtype  \n",
      "---  ------                    --------------   -----  \n",
      " 0   order_id                  108643 non-null  object \n",
      " 1   customer_id               108643 non-null  object \n",
      " 2   order_purchase_timestamp  108643 non-null  object \n",
      " 3   product_id                108643 non-null  object \n",
      " 4   price                     108643 non-null  float64\n",
      " 5   product_category_name     108643 non-null  object \n",
      " 6   customer_unique_id        108643 non-null  object \n",
      " 7   customer_state            108643 non-null  object \n",
      "dtypes: float64(1), object(7)\n",
      "memory usage: 6.6+ MB\n"
     ]
    }
   ],
   "source": [
    "cust_orders2.info()"
   ]
  },
  {
   "cell_type": "code",
   "execution_count": 13,
   "id": "2d491436-fdd6-435e-8d2a-111b04e683a7",
   "metadata": {
    "scrolled": true
   },
   "outputs": [
    {
     "data": {
      "text/html": [
       "<div>\n",
       "<style scoped>\n",
       "    .dataframe tbody tr th:only-of-type {\n",
       "        vertical-align: middle;\n",
       "    }\n",
       "\n",
       "    .dataframe tbody tr th {\n",
       "        vertical-align: top;\n",
       "    }\n",
       "\n",
       "    .dataframe thead th {\n",
       "        text-align: right;\n",
       "    }\n",
       "</style>\n",
       "<table border=\"1\" class=\"dataframe\">\n",
       "  <thead>\n",
       "    <tr style=\"text-align: right;\">\n",
       "      <th></th>\n",
       "      <th>order_purchase_timestamp</th>\n",
       "      <th>product_category_name</th>\n",
       "      <th>customer_state</th>\n",
       "      <th>total_revenue</th>\n",
       "      <th>total_orders</th>\n",
       "    </tr>\n",
       "  </thead>\n",
       "  <tbody>\n",
       "    <tr>\n",
       "      <th>0</th>\n",
       "      <td>2016-09-30</td>\n",
       "      <td>health_beauty</td>\n",
       "      <td>SP</td>\n",
       "      <td>134.97</td>\n",
       "      <td>3</td>\n",
       "    </tr>\n",
       "    <tr>\n",
       "      <th>1</th>\n",
       "      <td>2016-10-31</td>\n",
       "      <td>air_conditioning</td>\n",
       "      <td>MG</td>\n",
       "      <td>299.99</td>\n",
       "      <td>1</td>\n",
       "    </tr>\n",
       "    <tr>\n",
       "      <th>2</th>\n",
       "      <td>2016-10-31</td>\n",
       "      <td>air_conditioning</td>\n",
       "      <td>SC</td>\n",
       "      <td>599.60</td>\n",
       "      <td>4</td>\n",
       "    </tr>\n",
       "    <tr>\n",
       "      <th>3</th>\n",
       "      <td>2016-10-31</td>\n",
       "      <td>air_conditioning</td>\n",
       "      <td>SP</td>\n",
       "      <td>449.70</td>\n",
       "      <td>3</td>\n",
       "    </tr>\n",
       "    <tr>\n",
       "      <th>4</th>\n",
       "      <td>2016-10-31</td>\n",
       "      <td>audio</td>\n",
       "      <td>RJ</td>\n",
       "      <td>132.00</td>\n",
       "      <td>1</td>\n",
       "    </tr>\n",
       "  </tbody>\n",
       "</table>\n",
       "</div>"
      ],
      "text/plain": [
       "  order_purchase_timestamp product_category_name customer_state  \\\n",
       "0               2016-09-30         health_beauty             SP   \n",
       "1               2016-10-31      air_conditioning             MG   \n",
       "2               2016-10-31      air_conditioning             SC   \n",
       "3               2016-10-31      air_conditioning             SP   \n",
       "4               2016-10-31                 audio             RJ   \n",
       "\n",
       "   total_revenue  total_orders  \n",
       "0         134.97             3  \n",
       "1         299.99             1  \n",
       "2         599.60             4  \n",
       "3         449.70             3  \n",
       "4         132.00             1  "
      ]
     },
     "execution_count": 13,
     "metadata": {},
     "output_type": "execute_result"
    }
   ],
   "source": [
    "cust_orders2['order_purchase_timestamp'] = pd.to_datetime(cust_orders2['order_purchase_timestamp'])\n",
    "\n",
    "# Aggregate data by category and date\n",
    "category_time_series = cust_orders2.groupby([\n",
    "    pd.Grouper(key='order_purchase_timestamp', freq='ME'),  # Monthly aggregation\n",
    "    'product_category_name', 'customer_state']).agg(total_revenue=('price', 'sum'), # Sum of prices for total revenue\n",
    "    total_orders=('order_id', 'count')   # Count of order IDs for total orders\n",
    ").reset_index()\n",
    "\n",
    "# Display the aggregated data\n",
    "category_time_series.head()"
   ]
  },
  {
   "cell_type": "code",
   "execution_count": 14,
   "id": "c56cb55b-15fd-4b2f-85f0-aba6458beefe",
   "metadata": {
    "scrolled": true
   },
   "outputs": [
    {
     "name": "stderr",
     "output_type": "stream",
     "text": [
      "12:21:24 - cmdstanpy - INFO - Chain [1] start processing\n",
      "12:21:24 - cmdstanpy - INFO - Chain [1] done processing\n",
      "12:21:24 - cmdstanpy - INFO - Chain [1] start processing\n"
     ]
    },
    {
     "name": "stdout",
     "output_type": "stream",
     "text": [
      "Forecast for health_beauty:\n",
      "           ds         yhat   yhat_lower    yhat_upper\n",
      "22 2018-09-30  7259.713153   210.509642  13705.494070\n",
      "23 2018-10-31  7471.000359   103.006145  14379.494292\n",
      "24 2018-11-30  7675.471849  1309.034288  14380.623997\n",
      "25 2018-12-31  7886.759055   934.785981  14727.905345\n",
      "26 2019-01-31  8098.046261  1361.437547  14746.587605\n",
      "27 2019-02-28  8288.886319  1516.996075  15118.672507\n"
     ]
    },
    {
     "name": "stderr",
     "output_type": "stream",
     "text": [
      "12:21:25 - cmdstanpy - INFO - Chain [1] done processing\n",
      "12:21:25 - cmdstanpy - INFO - Chain [1] start processing\n",
      "12:21:25 - cmdstanpy - INFO - Chain [1] done processing\n"
     ]
    },
    {
     "name": "stdout",
     "output_type": "stream",
     "text": [
      "Forecast for air_conditioning:\n",
      "           ds        yhat  yhat_lower   yhat_upper\n",
      "21 2018-09-30  917.133704  193.085761  1633.579400\n",
      "22 2018-10-31  925.109733  178.431746  1657.106361\n",
      "23 2018-11-30  932.828471  202.961029  1653.379166\n",
      "24 2018-12-31  940.804501  200.708653  1663.491622\n",
      "25 2019-01-31  948.780530  212.984118  1677.331438\n",
      "26 2019-02-28  955.984685  291.473363  1723.128875\n"
     ]
    },
    {
     "name": "stderr",
     "output_type": "stream",
     "text": [
      "12:21:25 - cmdstanpy - INFO - Chain [1] start processing\n",
      "12:21:25 - cmdstanpy - INFO - Chain [1] done processing\n"
     ]
    },
    {
     "name": "stdout",
     "output_type": "stream",
     "text": [
      "Forecast for audio:\n",
      "           ds        yhat  yhat_lower   yhat_upper\n",
      "20 2018-09-30  708.142922  100.323321  1263.089875\n",
      "21 2018-10-31  726.341301   78.606450  1347.013207\n",
      "22 2018-11-30  743.952635  168.924759  1359.244909\n",
      "23 2018-12-31  762.151014  176.518727  1359.347298\n",
      "24 2019-01-31  780.349393  153.774406  1384.774284\n",
      "25 2019-02-28  796.786638  206.922521  1391.345995\n"
     ]
    },
    {
     "name": "stderr",
     "output_type": "stream",
     "text": [
      "12:21:25 - cmdstanpy - INFO - Chain [1] start processing\n",
      "12:21:25 - cmdstanpy - INFO - Chain [1] done processing\n"
     ]
    },
    {
     "name": "stdout",
     "output_type": "stream",
     "text": [
      "Forecast for auto:\n",
      "           ds         yhat   yhat_lower   yhat_upper\n",
      "21 2018-09-30  3741.228079   366.275420  6702.131186\n",
      "22 2018-10-31  3828.013807   553.578115  7184.698610\n",
      "23 2018-11-30  3911.999996   449.733779  7151.882436\n",
      "24 2018-12-31  3998.785725   785.039408  7277.074536\n",
      "25 2019-01-31  4085.571453  1027.696592  7388.491906\n",
      "26 2019-02-28  4163.958563   709.889135  7508.598379\n"
     ]
    },
    {
     "name": "stderr",
     "output_type": "stream",
     "text": [
      "12:21:26 - cmdstanpy - INFO - Chain [1] start processing\n",
      "12:21:26 - cmdstanpy - INFO - Chain [1] done processing\n"
     ]
    },
    {
     "name": "stdout",
     "output_type": "stream",
     "text": [
      "Forecast for baby:\n",
      "           ds         yhat   yhat_lower   yhat_upper\n",
      "21 2018-09-30  3274.812621   667.136240  6002.013478\n",
      "22 2018-10-31  3366.100235   775.319749  6012.282435\n",
      "23 2018-11-30  3454.443087   953.492966  6013.949833\n",
      "24 2018-12-31  3545.730701   860.524317  6221.030287\n",
      "25 2019-01-31  3637.018315  1074.784335  6187.128929\n",
      "26 2019-02-28  3719.471643  1237.958189  6161.306632\n"
     ]
    },
    {
     "name": "stderr",
     "output_type": "stream",
     "text": [
      "12:21:26 - cmdstanpy - INFO - Chain [1] start processing\n",
      "12:21:26 - cmdstanpy - INFO - Chain [1] done processing\n"
     ]
    },
    {
     "name": "stdout",
     "output_type": "stream",
     "text": [
      "Forecast for bed_bath_table:\n",
      "           ds         yhat  yhat_lower    yhat_upper\n",
      "21 2018-09-30  7181.110296 -169.230344  14151.567185\n",
      "22 2018-10-31  7298.442523  327.780296  14321.501137\n",
      "23 2018-11-30  7411.989839 -152.101543  14507.406149\n",
      "24 2018-12-31  7529.322065  220.021717  14233.080528\n",
      "25 2019-01-31  7646.654291  613.361229  14148.534770\n",
      "26 2019-02-28  7752.631786  455.082763  14670.736497\n"
     ]
    },
    {
     "name": "stderr",
     "output_type": "stream",
     "text": [
      "12:21:26 - cmdstanpy - INFO - Chain [1] start processing\n",
      "12:21:26 - cmdstanpy - INFO - Chain [1] done processing\n"
     ]
    },
    {
     "name": "stdout",
     "output_type": "stream",
     "text": [
      "Forecast for computers_accessories:\n",
      "           ds         yhat   yhat_lower    yhat_upper\n",
      "21 2018-09-30  4895.317456  -616.883758  10205.030409\n",
      "22 2018-10-31  4824.479453  -361.512939  10106.641052\n",
      "23 2018-11-30  4755.926546  -640.828963  10432.189288\n",
      "24 2018-12-31  4685.088542  -998.623572   9981.537525\n",
      "25 2019-01-31  4614.250539  -773.396681   9934.876224\n",
      "26 2019-02-28  4550.267826 -1294.182873  10017.798723\n"
     ]
    },
    {
     "name": "stderr",
     "output_type": "stream",
     "text": [
      "12:21:26 - cmdstanpy - INFO - Chain [1] start processing\n",
      "12:21:26 - cmdstanpy - INFO - Chain [1] done processing\n"
     ]
    },
    {
     "name": "stdout",
     "output_type": "stream",
     "text": [
      "Forecast for consoles_games:\n",
      "           ds         yhat  yhat_lower   yhat_upper\n",
      "21 2018-09-30  1199.117612   92.143493  2361.841406\n",
      "22 2018-10-31  1205.296191   75.172182  2235.853930\n",
      "23 2018-11-30  1211.275461  176.231386  2341.226440\n",
      "24 2018-12-31  1217.454040   82.081796  2277.563973\n",
      "25 2019-01-31  1223.632619  140.462050  2277.136341\n",
      "26 2019-02-28  1229.213271  167.485339  2343.796324\n"
     ]
    },
    {
     "name": "stderr",
     "output_type": "stream",
     "text": [
      "12:21:26 - cmdstanpy - INFO - Chain [1] start processing\n",
      "12:21:26 - cmdstanpy - INFO - Chain [1] done processing\n"
     ]
    },
    {
     "name": "stdout",
     "output_type": "stream",
     "text": [
      "Forecast for cool_stuff:\n",
      "           ds         yhat  yhat_lower   yhat_upper\n",
      "21 2018-09-30  3193.788242  -50.554141  6153.109325\n",
      "22 2018-10-31  3174.890393 -162.045206  6477.453086\n",
      "23 2018-11-30  3156.602153   78.389447  6522.324324\n",
      "24 2018-12-31  3137.704304  107.430773  6121.008250\n",
      "25 2019-01-31  3118.806455  123.004974  6410.498987\n",
      "26 2019-02-28  3101.737430 -146.409570  6244.255622\n"
     ]
    },
    {
     "name": "stderr",
     "output_type": "stream",
     "text": [
      "12:21:27 - cmdstanpy - INFO - Chain [1] start processing\n"
     ]
    },
    {
     "name": "stdout",
     "output_type": "stream",
     "text": [
      "Forecast for diapers_and_hygiene:\n",
      "           ds        yhat  yhat_lower  yhat_upper\n",
      "10 2018-09-30  108.639595   59.332602  158.454011\n",
      "11 2018-10-31  107.899586   58.671467  158.052728\n",
      "12 2018-11-30  107.183448   50.754494  158.746152\n",
      "13 2018-12-31  106.443440   55.022193  158.365292\n",
      "14 2019-01-31  105.703431   54.655043  154.955231\n",
      "15 2019-02-28  105.035035   56.092402  160.026675\n"
     ]
    },
    {
     "name": "stderr",
     "output_type": "stream",
     "text": [
      "12:21:27 - cmdstanpy - INFO - Chain [1] done processing\n",
      "12:21:27 - cmdstanpy - INFO - Chain [1] start processing\n",
      "12:21:27 - cmdstanpy - INFO - Chain [1] done processing\n"
     ]
    },
    {
     "name": "stdout",
     "output_type": "stream",
     "text": [
      "Forecast for electronics:\n",
      "           ds         yhat  yhat_lower   yhat_upper\n",
      "21 2018-09-30  1211.563473  239.634486  2334.219408\n",
      "22 2018-10-31  1240.213023  223.037773  2382.084685\n",
      "23 2018-11-30  1267.938395  226.384244  2388.579486\n",
      "24 2018-12-31  1296.587945  269.265105  2342.852798\n",
      "25 2019-01-31  1325.237495  221.793155  2372.512443\n",
      "26 2019-02-28  1351.114508  346.561680  2446.166286\n"
     ]
    },
    {
     "name": "stderr",
     "output_type": "stream",
     "text": [
      "12:21:27 - cmdstanpy - INFO - Chain [1] start processing\n",
      "12:21:27 - cmdstanpy - INFO - Chain [1] done processing\n"
     ]
    },
    {
     "name": "stdout",
     "output_type": "stream",
     "text": [
      "Forecast for fashio_female_clothing:\n",
      "           ds       yhat  yhat_lower  yhat_upper\n",
      "16 2018-09-30  98.716636   16.207458  180.318155\n",
      "17 2018-10-31  97.865427   15.621889  179.389910\n",
      "18 2018-11-30  97.041676   21.052848  177.181741\n",
      "19 2018-12-31  96.190467   10.515991  177.053959\n",
      "20 2019-01-31  95.339259   15.226476  181.982765\n",
      "21 2019-02-28  94.570425    7.319762  175.059691\n",
      "Forecast for fashion_bags_accessories:\n",
      "           ds         yhat  yhat_lower   yhat_upper\n",
      "22 2018-09-30  1083.176083  141.870605  2001.517805\n",
      "23 2018-10-31  1095.670356   97.547459  2010.288859\n",
      "24 2018-11-30  1107.761588  206.147566  1993.893819\n",
      "25 2018-12-31  1120.255861  172.876552  2036.663992\n",
      "26 2019-01-31  1132.750134  208.168582  2091.079274\n",
      "27 2019-02-28  1144.035284  205.682335  2084.434207\n"
     ]
    },
    {
     "name": "stderr",
     "output_type": "stream",
     "text": [
      "12:21:27 - cmdstanpy - INFO - Chain [1] start processing\n",
      "12:21:28 - cmdstanpy - INFO - Chain [1] done processing\n",
      "12:21:28 - cmdstanpy - INFO - Chain [1] start processing\n",
      "12:21:28 - cmdstanpy - INFO - Chain [1] done processing\n"
     ]
    },
    {
     "name": "stdout",
     "output_type": "stream",
     "text": [
      "Forecast for fashion_male_clothing:\n",
      "           ds        yhat  yhat_lower  yhat_upper\n",
      "20 2018-09-30  168.987633   -2.493529  340.477820\n",
      "21 2018-10-31  167.381361   -5.444410  350.029705\n",
      "22 2018-11-30  165.826905  -12.656080  335.088044\n",
      "23 2018-12-31  164.220634  -15.952458  332.319896\n",
      "24 2019-01-31  162.614363   -7.853290  325.763585\n",
      "25 2019-02-28  161.163537  -17.931809  349.798750\n"
     ]
    },
    {
     "name": "stderr",
     "output_type": "stream",
     "text": [
      "12:21:28 - cmdstanpy - INFO - Chain [1] start processing\n",
      "12:21:28 - cmdstanpy - INFO - Chain [1] done processing\n"
     ]
    },
    {
     "name": "stdout",
     "output_type": "stream",
     "text": [
      "Forecast for fashion_shoes:\n",
      "           ds        yhat  yhat_lower  yhat_upper\n",
      "21 2018-09-30  238.380180   63.441559  421.080517\n",
      "22 2018-10-31  239.432911   70.687814  417.805546\n",
      "23 2018-11-30  240.451684   63.172592  420.478648\n",
      "24 2018-12-31  241.504416   63.935542  430.370190\n",
      "25 2019-01-31  242.557148   55.330944  414.050698\n",
      "26 2019-02-28  243.508002   71.928965  421.123913\n",
      "Forecast for fixed_telephony:\n",
      "           ds         yhat  yhat_lower   yhat_upper\n",
      "21 2018-09-30  1075.941726 -763.668060  3050.748941\n",
      "22 2018-10-31  1115.958887 -820.365394  2970.012515\n",
      "23 2018-11-30  1154.685172 -524.531400  3043.976021\n",
      "24 2018-12-31  1194.702333 -467.078661  3124.664799\n",
      "25 2019-01-31  1234.719495 -659.983845  3001.316905\n",
      "26 2019-02-28  1270.864027 -532.365764  3281.964240\n"
     ]
    },
    {
     "name": "stderr",
     "output_type": "stream",
     "text": [
      "12:21:28 - cmdstanpy - INFO - Chain [1] start processing\n",
      "12:21:28 - cmdstanpy - INFO - Chain [1] done processing\n",
      "12:21:28 - cmdstanpy - INFO - Chain [1] start processing\n",
      "12:21:28 - cmdstanpy - INFO - Chain [1] done processing\n"
     ]
    },
    {
     "name": "stdout",
     "output_type": "stream",
     "text": [
      "Forecast for food:\n",
      "           ds        yhat  yhat_lower   yhat_upper\n",
      "21 2018-09-30  571.520447  -60.360232  1176.337952\n",
      "22 2018-10-31  586.609941   35.451107  1224.831249\n",
      "23 2018-11-30  601.212676  -18.451040  1216.974272\n",
      "24 2018-12-31  616.302170   12.668013  1224.887185\n",
      "25 2019-01-31  631.391664   46.070937  1229.719619\n",
      "26 2019-02-28  645.020884   50.531797  1220.976234\n"
     ]
    },
    {
     "name": "stderr",
     "output_type": "stream",
     "text": [
      "12:21:29 - cmdstanpy - INFO - Chain [1] start processing\n",
      "12:21:29 - cmdstanpy - INFO - Chain [1] done processing\n"
     ]
    },
    {
     "name": "stdout",
     "output_type": "stream",
     "text": [
      "Forecast for furniture_decor:\n",
      "           ds         yhat   yhat_lower   yhat_upper\n",
      "21 2018-09-30  4913.537153  1079.999051  9094.943654\n",
      "22 2018-10-31  5008.643606  1004.293733  8714.930576\n",
      "23 2018-11-30  5100.682108  1282.031460  9090.387029\n",
      "24 2018-12-31  5195.788560  1341.155618  9045.478822\n",
      "25 2019-01-31  5290.895012  1149.850945  8981.786203\n",
      "26 2019-02-28  5376.797614  1070.591053  8800.488344\n",
      "Forecast for garden_tools:\n",
      "           ds         yhat  yhat_lower   yhat_upper\n",
      "21 2018-09-30  2931.114638  259.940542  5273.302941\n",
      "22 2018-10-31  2975.425118  511.281930  5347.972082\n",
      "23 2018-11-30  3018.306228  865.593940  5315.167469\n",
      "24 2018-12-31  3062.616708  595.646276  5401.734912\n",
      "25 2019-01-31  3106.927188  504.991004  5643.470685\n",
      "26 2019-02-28  3146.949557  843.817437  5512.591401\n"
     ]
    },
    {
     "name": "stderr",
     "output_type": "stream",
     "text": [
      "12:21:29 - cmdstanpy - INFO - Chain [1] start processing\n",
      "12:21:29 - cmdstanpy - INFO - Chain [1] done processing\n",
      "12:21:29 - cmdstanpy - INFO - Chain [1] start processing\n"
     ]
    },
    {
     "name": "stdout",
     "output_type": "stream",
     "text": [
      "Forecast for housewares:\n",
      "           ds         yhat   yhat_lower    yhat_upper\n",
      "21 2018-09-30  5376.087241   892.648679   9300.251267\n",
      "22 2018-10-31  5513.767437   873.655955  10096.362335\n",
      "23 2018-11-30  5647.006338  1246.960743   9905.912914\n",
      "24 2018-12-31  5784.686534  1601.461307  10038.906389\n",
      "25 2019-01-31  5922.366731  1686.509172  10492.333777\n",
      "26 2019-02-28  6046.723038  1588.290293  10203.855813\n"
     ]
    },
    {
     "name": "stderr",
     "output_type": "stream",
     "text": [
      "12:21:29 - cmdstanpy - INFO - Chain [1] done processing\n",
      "12:21:29 - cmdstanpy - INFO - Chain [1] start processing\n",
      "12:21:29 - cmdstanpy - INFO - Chain [1] done processing\n"
     ]
    },
    {
     "name": "stdout",
     "output_type": "stream",
     "text": [
      "Forecast for industry_commerce_and_business:\n",
      "           ds         yhat  yhat_lower   yhat_upper\n",
      "19 2018-09-30   913.340112  149.888649  1632.733470\n",
      "20 2018-10-31   943.060011  171.864944  1691.392326\n",
      "21 2018-11-30   971.821204  152.938020  1712.884033\n",
      "22 2018-12-31  1001.541103  236.333965  1802.569152\n",
      "23 2019-01-31  1031.261002  332.274556  1757.500679\n",
      "24 2019-02-28  1058.104782  325.190168  1808.481194\n",
      "Forecast for market_place:\n",
      "           ds        yhat  yhat_lower  yhat_upper\n",
      "21 2018-09-30  222.955115  -71.119364  538.801307\n",
      "22 2018-10-31  217.853601  -87.386019  514.031429\n",
      "23 2018-11-30  212.916651  -85.053904  508.870914\n",
      "24 2018-12-31  207.815137  -84.512235  513.983052\n",
      "25 2019-01-31  202.713622  -97.554733  520.909056\n",
      "26 2019-02-28  198.105803  -93.752685  516.622275\n"
     ]
    },
    {
     "name": "stderr",
     "output_type": "stream",
     "text": [
      "12:21:30 - cmdstanpy - INFO - Chain [1] start processing\n",
      "12:21:30 - cmdstanpy - INFO - Chain [1] done processing\n",
      "12:21:30 - cmdstanpy - INFO - Chain [1] start processing\n",
      "12:21:30 - cmdstanpy - INFO - Chain [1] done processing\n"
     ]
    },
    {
     "name": "stdout",
     "output_type": "stream",
     "text": [
      "Forecast for office_furniture:\n",
      "           ds         yhat  yhat_lower   yhat_upper\n",
      "21 2018-09-30  2235.319199  229.419189  4344.249822\n",
      "22 2018-10-31  2259.560372  365.622013  4309.787615\n",
      "23 2018-11-30  2283.019573  305.917191  4386.460882\n",
      "24 2018-12-31  2307.260746  223.571678  4247.002347\n",
      "25 2019-01-31  2331.501920  475.200329  4337.957725\n",
      "26 2019-02-28  2353.397174  274.594508  4393.260202\n",
      "Forecast for perfumery:\n",
      "           ds         yhat  yhat_lower   yhat_upper\n",
      "21 2018-09-30  2706.863366  352.179428  5031.038876\n",
      "22 2018-10-31  2740.102416  399.455176  4995.628692\n",
      "23 2018-11-30  2772.269239  551.893913  5267.759634\n",
      "24 2018-12-31  2805.508289  460.191746  5208.009582\n",
      "25 2019-01-31  2838.747339  510.687164  5134.558197\n",
      "26 2019-02-28  2868.769707  424.553290  5040.841680\n"
     ]
    },
    {
     "name": "stderr",
     "output_type": "stream",
     "text": [
      "12:21:30 - cmdstanpy - INFO - Chain [1] start processing\n",
      "12:21:30 - cmdstanpy - INFO - Chain [1] done processing\n",
      "12:21:30 - cmdstanpy - INFO - Chain [1] start processing\n",
      "12:21:30 - cmdstanpy - INFO - Chain [1] done processing\n"
     ]
    },
    {
     "name": "stdout",
     "output_type": "stream",
     "text": [
      "Forecast for pet_shop:\n",
      "           ds         yhat  yhat_lower   yhat_upper\n",
      "21 2018-09-30  2085.506196  308.978638  3722.620336\n",
      "22 2018-10-31  2146.915809  395.435637  3806.235090\n",
      "23 2018-11-30  2206.344466  363.354990  3906.706241\n",
      "24 2018-12-31  2267.754079  510.673722  4022.178905\n",
      "25 2019-01-31  2329.163692  480.558248  4058.866438\n",
      "26 2019-02-28  2384.630439  752.328473  4024.783703\n"
     ]
    },
    {
     "name": "stderr",
     "output_type": "stream",
     "text": [
      "12:21:30 - cmdstanpy - INFO - Chain [1] start processing\n",
      "12:21:31 - cmdstanpy - INFO - Chain [1] done processing\n"
     ]
    },
    {
     "name": "stdout",
     "output_type": "stream",
     "text": [
      "Forecast for sports_leisure:\n",
      "           ds         yhat  yhat_lower    yhat_upper\n",
      "21 2018-09-30  5588.146025  460.814415  11114.018387\n",
      "22 2018-10-31  5656.952011  270.743819  10855.824389\n",
      "23 2018-11-30  5723.538448  434.355737  10706.793130\n",
      "24 2018-12-31  5792.344433  691.438322  10889.757483\n",
      "25 2019-01-31  5861.150419  337.445946  11134.471460\n",
      "26 2019-02-28  5923.297760  554.662373  11136.040106\n"
     ]
    },
    {
     "name": "stderr",
     "output_type": "stream",
     "text": [
      "12:21:31 - cmdstanpy - INFO - Chain [1] start processing\n",
      "12:21:31 - cmdstanpy - INFO - Chain [1] done processing\n"
     ]
    },
    {
     "name": "stdout",
     "output_type": "stream",
     "text": [
      "Forecast for telephony:\n",
      "           ds         yhat  yhat_lower   yhat_upper\n",
      "21 2018-09-30  1919.399348  212.752166  3501.226381\n",
      "22 2018-10-31  1974.144640  274.257319  3603.067778\n",
      "23 2018-11-30  2027.123955  437.367686  3620.857044\n",
      "24 2018-12-31  2081.869247  378.568800  3650.012340\n",
      "25 2019-01-31  2136.614540  516.207972  3786.543224\n",
      "26 2019-02-28  2186.061900  546.266502  3837.502412\n"
     ]
    },
    {
     "name": "stderr",
     "output_type": "stream",
     "text": [
      "12:21:31 - cmdstanpy - INFO - Chain [1] start processing\n",
      "12:21:31 - cmdstanpy - INFO - Chain [1] done processing\n"
     ]
    },
    {
     "name": "stdout",
     "output_type": "stream",
     "text": [
      "Forecast for toys:\n",
      "           ds         yhat  yhat_lower   yhat_upper\n",
      "21 2018-09-30  2443.038207 -403.236193  5574.430854\n",
      "22 2018-10-31  2377.720380 -542.808400  5084.327191\n",
      "23 2018-11-30  2314.509581 -725.682797  5067.766190\n",
      "24 2018-12-31  2249.191754 -654.637058  5560.976409\n",
      "25 2019-01-31  2183.873928 -740.211737  5314.660914\n",
      "26 2019-02-28  2124.877181 -616.848944  5196.415461\n"
     ]
    },
    {
     "name": "stderr",
     "output_type": "stream",
     "text": [
      "12:21:31 - cmdstanpy - INFO - Chain [1] start processing\n"
     ]
    },
    {
     "name": "stdout",
     "output_type": "stream",
     "text": [
      "Forecast for watches_gifts:\n",
      "           ds         yhat   yhat_lower    yhat_upper\n",
      "21 2018-09-30  7254.794267   861.930249  13870.426198\n",
      "22 2018-10-31  7417.557948   643.159875  14042.016274\n",
      "23 2018-11-30  7575.071189  1392.137002  14345.041635\n",
      "24 2018-12-31  7737.834870  1582.351477  14680.658193\n",
      "25 2019-01-31  7900.598552   757.216773  15013.683912\n",
      "26 2019-02-28  8047.610909  1173.724985  15072.224584\n"
     ]
    },
    {
     "name": "stderr",
     "output_type": "stream",
     "text": [
      "12:21:31 - cmdstanpy - INFO - Chain [1] done processing\n",
      "12:21:32 - cmdstanpy - INFO - Chain [1] start processing\n",
      "12:21:32 - cmdstanpy - INFO - Chain [1] done processing\n"
     ]
    },
    {
     "name": "stdout",
     "output_type": "stream",
     "text": [
      "Forecast for agro_industry_and_commerce:\n",
      "           ds         yhat  yhat_lower   yhat_upper\n",
      "19 2018-09-30  1251.333080   58.062323  2478.404223\n",
      "20 2018-10-31  1281.041487   94.350131  2554.975016\n",
      "21 2018-11-30  1309.791558   12.293392  2652.382867\n",
      "22 2018-12-31  1339.499964  155.861387  2493.239415\n",
      "23 2019-01-31  1369.208371  193.904796  2526.280657\n",
      "24 2019-02-28  1396.041770  175.606433  2544.559289\n",
      "Forecast for books_general_interest:\n",
      "           ds        yhat  yhat_lower   yhat_upper\n",
      "20 2018-09-30  626.745233  151.248583  1114.734304\n",
      "21 2018-10-31  642.693282  158.165467  1142.920231\n",
      "22 2018-11-30  658.126879  146.232387  1169.357178\n",
      "23 2018-12-31  674.074928  196.608477  1163.281771\n",
      "24 2019-01-31  690.022977  179.226650  1184.909795\n",
      "25 2019-02-28  704.427667  190.042629  1205.249248\n"
     ]
    },
    {
     "name": "stderr",
     "output_type": "stream",
     "text": [
      "12:21:32 - cmdstanpy - INFO - Chain [1] start processing\n",
      "12:21:32 - cmdstanpy - INFO - Chain [1] done processing\n",
      "12:21:32 - cmdstanpy - INFO - Chain [1] start processing\n"
     ]
    },
    {
     "name": "stdout",
     "output_type": "stream",
     "text": [
      "Forecast for computers:\n",
      "           ds         yhat   yhat_lower   yhat_upper\n",
      "13 2018-09-30  2717.951212  -980.444229  6525.915547\n",
      "14 2018-10-31  2614.609881 -1571.961386  6387.874609\n",
      "15 2018-11-30  2514.602141 -1215.926896  6460.279685\n",
      "16 2018-12-31  2411.260810 -1602.988588  6352.086865\n",
      "17 2019-01-31  2307.919480 -1360.616630  6097.470728\n",
      "18 2019-02-28  2214.578923 -1803.792705  5916.697367\n"
     ]
    },
    {
     "name": "stderr",
     "output_type": "stream",
     "text": [
      "12:21:32 - cmdstanpy - INFO - Chain [1] done processing\n",
      "12:21:32 - cmdstanpy - INFO - Chain [1] start processing\n"
     ]
    },
    {
     "name": "stdout",
     "output_type": "stream",
     "text": [
      "Forecast for dvds_blu_ray:\n",
      "           ds       yhat  yhat_lower  yhat_upper\n",
      "20 2018-09-30  72.879248 -203.972044  341.711942\n",
      "21 2018-10-31  65.187192 -191.284489  341.216232\n",
      "22 2018-11-30  57.743267 -215.902254  373.341709\n",
      "23 2018-12-31  50.051210 -228.865248  349.548386\n",
      "24 2019-01-31  42.359154 -240.948027  336.910536\n",
      "25 2019-02-28  35.411490 -235.538287  316.085107\n"
     ]
    },
    {
     "name": "stderr",
     "output_type": "stream",
     "text": [
      "12:21:33 - cmdstanpy - INFO - Chain [1] done processing\n",
      "12:21:33 - cmdstanpy - INFO - Chain [1] start processing\n"
     ]
    },
    {
     "name": "stdout",
     "output_type": "stream",
     "text": [
      "Forecast for fashion_underwear_beach:\n",
      "           ds        yhat  yhat_lower  yhat_upper\n",
      "20 2018-09-30  155.978823   16.111618  292.136330\n",
      "21 2018-10-31  155.693107   18.959068  302.050660\n",
      "22 2018-11-30  155.416607    8.661689  309.512160\n",
      "23 2018-12-31  155.130891    7.585312  307.328074\n",
      "24 2019-01-31  154.845174   12.762913  298.940094\n",
      "25 2019-02-28  154.587108    8.730269  290.381397\n"
     ]
    },
    {
     "name": "stderr",
     "output_type": "stream",
     "text": [
      "12:21:33 - cmdstanpy - INFO - Chain [1] done processing\n",
      "12:21:33 - cmdstanpy - INFO - Chain [1] start processing\n",
      "12:21:33 - cmdstanpy - INFO - Chain [1] done processing\n"
     ]
    },
    {
     "name": "stdout",
     "output_type": "stream",
     "text": [
      "Forecast for furniture_bedroom:\n",
      "           ds        yhat  yhat_lower   yhat_upper\n",
      "19 2018-09-30  669.169927  232.860020  1094.188991\n",
      "20 2018-10-31  683.981059  224.755850  1110.873732\n",
      "21 2018-11-30  698.314413  255.277505  1089.261993\n",
      "22 2018-12-31  713.125546  274.410216  1138.849785\n",
      "23 2019-01-31  727.936679  298.111364  1164.495875\n",
      "24 2019-02-28  741.314476  290.829796  1179.496855\n",
      "Forecast for furniture_living_room:\n",
      "           ds        yhat  yhat_lower   yhat_upper\n",
      "20 2018-09-30  769.501821   78.014722  1391.808208\n",
      "21 2018-10-31  774.320749  102.100688  1420.299806\n",
      "22 2018-11-30  778.984229  126.046564  1403.894339\n",
      "23 2018-12-31  783.803157  125.652416  1472.741646\n",
      "24 2019-01-31  788.622086  123.872531  1467.507305\n",
      "25 2019-02-28  792.974667  105.869031  1474.465818\n"
     ]
    },
    {
     "name": "stderr",
     "output_type": "stream",
     "text": [
      "12:21:33 - cmdstanpy - INFO - Chain [1] start processing\n",
      "12:21:33 - cmdstanpy - INFO - Chain [1] done processing\n",
      "12:21:34 - cmdstanpy - INFO - Chain [1] start processing\n",
      "12:21:34 - cmdstanpy - INFO - Chain [1] done processing\n"
     ]
    },
    {
     "name": "stdout",
     "output_type": "stream",
     "text": [
      "Forecast for home_appliances_2:\n",
      "           ds         yhat   yhat_lower   yhat_upper\n",
      "20 2018-09-30  2254.346677   685.813536  3807.037302\n",
      "21 2018-10-31  2348.679794   739.311214  3875.095552\n",
      "22 2018-11-30  2439.969907  1011.917326  3870.549642\n",
      "23 2018-12-31  2534.303024   947.689915  4118.579077\n",
      "24 2019-01-31  2628.636141  1161.429514  4250.330717\n",
      "25 2019-02-28  2713.840247  1222.294820  4033.135038\n"
     ]
    },
    {
     "name": "stderr",
     "output_type": "stream",
     "text": [
      "12:21:34 - cmdstanpy - INFO - Chain [1] start processing\n"
     ]
    },
    {
     "name": "stdout",
     "output_type": "stream",
     "text": [
      "Forecast for home_comfort_2:\n",
      "           ds       yhat  yhat_lower  yhat_upper\n",
      "14 2018-08-31  17.269676  -36.542446   69.723312\n",
      "15 2018-09-30  13.289932  -35.736415   62.019086\n",
      "16 2018-10-31   9.177531  -41.889422   61.786618\n",
      "17 2018-11-30   5.197787  -50.336989   59.804718\n",
      "18 2018-12-31   1.085385  -54.382599   53.010100\n",
      "19 2019-01-31  -3.027017  -53.080870   49.134127\n"
     ]
    },
    {
     "name": "stderr",
     "output_type": "stream",
     "text": [
      "12:21:34 - cmdstanpy - INFO - Chain [1] done processing\n",
      "12:21:34 - cmdstanpy - INFO - Chain [1] start processing\n",
      "12:21:34 - cmdstanpy - INFO - Chain [1] done processing\n"
     ]
    },
    {
     "name": "stdout",
     "output_type": "stream",
     "text": [
      "Forecast for kitchen_dining_laundry_garden_furniture:\n",
      "           ds         yhat  yhat_lower   yhat_upper\n",
      "20 2018-09-30   938.564808  165.574258  1758.445874\n",
      "21 2018-10-31   954.604531  124.773623  1725.813307\n",
      "22 2018-11-30   970.126844  190.032940  1783.220831\n",
      "23 2018-12-31   986.166568  194.418018  1809.059054\n",
      "24 2019-01-31  1002.206291  206.834153  1808.170764\n",
      "25 2019-02-28  1016.693783  215.824545  1756.360159\n"
     ]
    },
    {
     "name": "stderr",
     "output_type": "stream",
     "text": [
      "12:21:34 - cmdstanpy - INFO - Chain [1] start processing\n",
      "12:21:34 - cmdstanpy - INFO - Chain [1] done processing\n"
     ]
    },
    {
     "name": "stdout",
     "output_type": "stream",
     "text": [
      "Forecast for luggage_accessories:\n",
      "           ds         yhat  yhat_lower   yhat_upper\n",
      "20 2018-09-30  1192.008710   40.090065  2317.956018\n",
      "21 2018-10-31  1200.564121   14.570117  2339.193745\n",
      "22 2018-11-30  1208.843551   76.031407  2381.334122\n",
      "23 2018-12-31  1217.398961   60.766626  2352.290637\n",
      "24 2019-01-31  1225.954372   64.468585  2476.145301\n",
      "25 2019-02-28  1233.681840  195.626972  2332.900339\n"
     ]
    },
    {
     "name": "stderr",
     "output_type": "stream",
     "text": [
      "12:21:35 - cmdstanpy - INFO - Chain [1] start processing\n",
      "12:21:35 - cmdstanpy - INFO - Chain [1] done processing\n"
     ]
    },
    {
     "name": "stdout",
     "output_type": "stream",
     "text": [
      "Forecast for music:\n",
      "           ds        yhat  yhat_lower  yhat_upper\n",
      "14 2018-09-30  288.418618  -23.884528  617.006030\n",
      "15 2018-10-31  294.803704  -32.684115  605.235993\n",
      "16 2018-11-30  300.982819   -8.435787  622.214066\n",
      "17 2018-12-31  307.367906   16.720094  610.570115\n",
      "18 2019-01-31  313.752992   -4.252510  622.280231\n",
      "19 2019-02-28  319.520166    2.959430  666.255202\n",
      "Forecast for musical_instruments:\n",
      "           ds         yhat  yhat_lower   yhat_upper\n",
      "20 2018-09-30  1833.873373  198.522846  3472.941502\n",
      "21 2018-10-31  1855.521950  201.701498  3520.833943\n",
      "22 2018-11-30  1876.472186  199.395114  3475.801269\n",
      "23 2018-12-31  1898.120763  230.797402  3574.339154\n",
      "24 2019-01-31  1919.769341  395.623394  3602.584951\n",
      "25 2019-02-28  1939.322894  295.018470  3685.966959\n"
     ]
    },
    {
     "name": "stderr",
     "output_type": "stream",
     "text": [
      "12:21:35 - cmdstanpy - INFO - Chain [1] start processing\n",
      "12:21:35 - cmdstanpy - INFO - Chain [1] done processing\n",
      "12:21:35 - cmdstanpy - INFO - Chain [1] start processing\n",
      "12:21:35 - cmdstanpy - INFO - Chain [1] done processing\n"
     ]
    },
    {
     "name": "stdout",
     "output_type": "stream",
     "text": [
      "Forecast for security_and_services:\n",
      "          ds        yhat  yhat_lower  yhat_upper\n",
      "2 2017-10-31  104.808718  104.808718  104.808718\n",
      "3 2017-11-30  109.462352  109.462352  109.462352\n",
      "4 2017-12-31  114.271107  114.271107  114.271107\n",
      "5 2018-01-31  119.079862  119.079862  119.079862\n",
      "6 2018-02-28  123.423254  123.423253  123.423254\n",
      "7 2018-03-31  128.232009  128.232008  128.232009\n"
     ]
    },
    {
     "name": "stderr",
     "output_type": "stream",
     "text": [
      "12:21:35 - cmdstanpy - INFO - Chain [1] start processing\n",
      "12:21:35 - cmdstanpy - INFO - Chain [1] done processing\n"
     ]
    },
    {
     "name": "stdout",
     "output_type": "stream",
     "text": [
      "Forecast for small_appliances:\n",
      "           ds         yhat  yhat_lower   yhat_upper\n",
      "20 2018-09-30  1641.872892  -21.065624  3491.778997\n",
      "21 2018-10-31  1633.247040  -59.311309  3374.345631\n",
      "22 2018-11-30  1624.899442 -161.892328  3404.938317\n",
      "23 2018-12-31  1616.273591  -71.129611  3365.481114\n",
      "24 2019-01-31  1607.647740 -188.106841  3267.595770\n",
      "25 2019-02-28  1599.856649 -269.895939  3268.642804\n",
      "Forecast for stationery:\n",
      "           ds         yhat  yhat_lower   yhat_upper\n",
      "20 2018-09-30  1887.459488  204.950840  3643.620949\n",
      "21 2018-10-31  1899.415555  194.395035  3527.038142\n",
      "22 2018-11-30  1910.985942   73.036745  3689.992013\n",
      "23 2018-12-31  1922.942008   84.312214  3464.102290\n",
      "24 2019-01-31  1934.898075  203.043189  3680.507372\n",
      "25 2019-02-28  1945.697103  135.587194  3650.007804\n"
     ]
    },
    {
     "name": "stderr",
     "output_type": "stream",
     "text": [
      "12:21:35 - cmdstanpy - INFO - Chain [1] start processing\n",
      "12:21:35 - cmdstanpy - INFO - Chain [1] done processing\n",
      "12:21:36 - cmdstanpy - INFO - Chain [1] start processing\n",
      "12:21:36 - cmdstanpy - INFO - Chain [1] done processing\n"
     ]
    },
    {
     "name": "stdout",
     "output_type": "stream",
     "text": [
      "Forecast for books_technical:\n",
      "           ds        yhat  yhat_lower  yhat_upper\n",
      "19 2018-09-30  305.918987   60.113247  550.445767\n",
      "20 2018-10-31  311.902613   59.562852  554.365307\n",
      "21 2018-11-30  317.693218   76.730998  585.120002\n",
      "22 2018-12-31  323.676844   82.168355  571.484911\n",
      "23 2019-01-31  329.660470   91.859050  574.728307\n",
      "24 2019-02-28  335.065035   87.318827  563.164924\n"
     ]
    },
    {
     "name": "stderr",
     "output_type": "stream",
     "text": [
      "12:21:36 - cmdstanpy - INFO - Chain [1] start processing\n",
      "12:21:36 - cmdstanpy - INFO - Chain [1] done processing\n"
     ]
    },
    {
     "name": "stdout",
     "output_type": "stream",
     "text": [
      "Forecast for cine_photo:\n",
      "           ds        yhat  yhat_lower  yhat_upper\n",
      "15 2018-09-30  277.962196   73.538852  516.015337\n",
      "16 2018-10-31  288.906566   70.379414  522.313422\n",
      "17 2018-11-30  299.497892   95.820589  511.503745\n",
      "18 2018-12-31  310.442263  101.805212  519.571755\n",
      "19 2019-01-31  321.386633  101.997902  539.566099\n",
      "20 2019-02-28  331.271870  121.639105  564.679991\n"
     ]
    },
    {
     "name": "stderr",
     "output_type": "stream",
     "text": [
      "12:21:36 - cmdstanpy - INFO - Chain [1] start processing\n"
     ]
    },
    {
     "name": "stdout",
     "output_type": "stream",
     "text": [
      "Forecast for construction_tools_construction:\n",
      "           ds         yhat   yhat_lower   yhat_upper\n",
      "18 2018-09-30  2695.567559   542.284839  4709.675213\n",
      "19 2018-10-31  2810.558639   626.513969  4922.436283\n",
      "20 2018-11-30  2921.840330   907.171036  5112.651961\n",
      "21 2018-12-31  3036.831410   978.754997  4979.741478\n",
      "22 2019-01-31  3151.822490  1083.070413  5193.825819\n",
      "23 2019-02-28  3255.685402  1233.342346  5440.338686\n"
     ]
    },
    {
     "name": "stderr",
     "output_type": "stream",
     "text": [
      "12:21:36 - cmdstanpy - INFO - Chain [1] done processing\n",
      "12:21:36 - cmdstanpy - INFO - Chain [1] start processing\n",
      "12:21:36 - cmdstanpy - INFO - Chain [1] done processing\n"
     ]
    },
    {
     "name": "stdout",
     "output_type": "stream",
     "text": [
      "Forecast for costruction_tools_garden:\n",
      "           ds        yhat  yhat_lower  yhat_upper\n",
      "18 2018-09-30  404.660468  -11.774576  843.269239\n",
      "19 2018-10-31  410.597781  -30.178665  826.654578\n",
      "20 2018-11-30  416.343568    0.133730  853.070331\n",
      "21 2018-12-31  422.280881   -6.372954  840.106205\n",
      "22 2019-01-31  428.218193  -26.231671  877.078870\n",
      "23 2019-02-28  433.580927  -16.605918  869.006827\n",
      "Forecast for home_appliances:\n",
      "           ds         yhat  yhat_lower   yhat_upper\n",
      "19 2018-09-30  1174.455879  126.122427  2144.657413\n",
      "20 2018-10-31  1209.282960   95.834814  2226.493240\n",
      "21 2018-11-30  1242.986585  234.059193  2293.068843\n",
      "22 2018-12-31  1277.813666  333.478021  2211.151869\n",
      "23 2019-01-31  1312.640746  313.522381  2363.591207\n",
      "24 2019-02-28  1344.097463  391.121427  2382.382962\n"
     ]
    },
    {
     "name": "stderr",
     "output_type": "stream",
     "text": [
      "12:21:37 - cmdstanpy - INFO - Chain [1] start processing\n",
      "12:21:37 - cmdstanpy - INFO - Chain [1] done processing\n",
      "12:21:37 - cmdstanpy - INFO - Chain [1] start processing\n",
      "12:21:37 - cmdstanpy - INFO - Chain [1] done processing\n"
     ]
    },
    {
     "name": "stdout",
     "output_type": "stream",
     "text": [
      "Forecast for home_confort:\n",
      "           ds        yhat  yhat_lower   yhat_upper\n",
      "19 2018-09-30  757.192579  178.560573  1336.800650\n",
      "20 2018-10-31  754.604151  130.028452  1318.223965\n",
      "21 2018-11-30  752.099220  201.476786  1370.409053\n",
      "22 2018-12-31  749.510792  161.020415  1326.568309\n",
      "23 2019-01-31  746.922363  176.458277  1309.641570\n",
      "24 2019-02-28  744.584428  149.710978  1315.606599\n"
     ]
    },
    {
     "name": "stderr",
     "output_type": "stream",
     "text": [
      "12:21:37 - cmdstanpy - INFO - Chain [1] start processing\n"
     ]
    },
    {
     "name": "stdout",
     "output_type": "stream",
     "text": [
      "Forecast for home_construction:\n",
      "           ds         yhat  yhat_lower   yhat_upper\n",
      "19 2018-09-30  1194.313765  229.435193  2212.398381\n",
      "20 2018-10-31  1227.342756  201.431111  2287.584481\n",
      "21 2018-11-30  1259.306295  307.777339  2274.757314\n",
      "22 2018-12-31  1292.335286  347.223145  2321.601588\n",
      "23 2019-01-31  1325.364277  355.110813  2277.762843\n",
      "24 2019-02-28  1355.196914  432.450494  2337.303564\n"
     ]
    },
    {
     "name": "stderr",
     "output_type": "stream",
     "text": [
      "12:21:37 - cmdstanpy - INFO - Chain [1] done processing\n",
      "12:21:37 - cmdstanpy - INFO - Chain [1] start processing\n",
      "12:21:37 - cmdstanpy - INFO - Chain [1] done processing\n"
     ]
    },
    {
     "name": "stdout",
     "output_type": "stream",
     "text": [
      "Forecast for tablets_printing_image:\n",
      "           ds       yhat  yhat_lower  yhat_upper\n",
      "17 2018-07-31  86.486327  -79.263252  252.602030\n",
      "18 2018-08-31  83.704640  -78.751455  248.026594\n",
      "19 2018-09-30  81.012686  -95.457933  242.865057\n",
      "20 2018-10-31  78.230999  -81.485904  244.854743\n",
      "21 2018-11-30  75.539044 -109.372740  248.120529\n",
      "22 2018-12-31  72.757358 -104.056544  237.838704\n"
     ]
    },
    {
     "name": "stderr",
     "output_type": "stream",
     "text": [
      "12:21:38 - cmdstanpy - INFO - Chain [1] start processing\n"
     ]
    },
    {
     "name": "stdout",
     "output_type": "stream",
     "text": [
      "Forecast for art:\n",
      "           ds        yhat  yhat_lower   yhat_upper\n",
      "18 2018-09-30  511.519755 -451.526869  1475.841903\n",
      "19 2018-10-31  497.275462 -418.096376  1441.986625\n",
      "20 2018-11-30  483.490662 -487.206460  1452.646410\n",
      "21 2018-12-31  469.246369 -401.975603  1418.809364\n",
      "22 2019-01-31  455.002076 -530.413286  1320.300269\n",
      "23 2019-02-28  442.136263 -452.064457  1412.328850\n"
     ]
    },
    {
     "name": "stderr",
     "output_type": "stream",
     "text": [
      "12:21:38 - cmdstanpy - INFO - Chain [1] done processing\n",
      "12:21:38 - cmdstanpy - INFO - Chain [1] start processing\n",
      "12:21:38 - cmdstanpy - INFO - Chain [1] done processing\n"
     ]
    },
    {
     "name": "stdout",
     "output_type": "stream",
     "text": [
      "Forecast for drinks:\n",
      "           ds        yhat  yhat_lower   yhat_upper\n",
      "17 2018-09-30  487.553043   -0.151084   964.885112\n",
      "18 2018-10-31  502.514720   31.404142   962.964175\n",
      "19 2018-11-30  516.993762   27.637650  1003.084405\n",
      "20 2018-12-31  531.955440   52.163074  1013.455801\n",
      "21 2019-01-31  546.917117   77.251475  1031.341060\n",
      "22 2019-02-28  560.430890   75.454734  1073.763783\n"
     ]
    },
    {
     "name": "stderr",
     "output_type": "stream",
     "text": [
      "12:21:38 - cmdstanpy - INFO - Chain [1] start processing\n"
     ]
    },
    {
     "name": "stdout",
     "output_type": "stream",
     "text": [
      "Forecast for fashion_sport:\n",
      "           ds       yhat  yhat_lower  yhat_upper\n",
      "14 2018-09-30  88.783989  -24.211764  198.838763\n",
      "15 2018-10-31  87.917858  -27.577416  200.716954\n",
      "16 2018-11-30  87.079667  -23.138332  201.483122\n",
      "17 2018-12-31  86.213536  -27.804801  199.141294\n",
      "18 2019-01-31  85.347405  -30.009862  206.044327\n",
      "19 2019-02-28  84.565094  -27.118264  198.686719\n"
     ]
    },
    {
     "name": "stderr",
     "output_type": "stream",
     "text": [
      "12:21:38 - cmdstanpy - INFO - Chain [1] done processing\n",
      "12:21:39 - cmdstanpy - INFO - Chain [1] start processing\n",
      "12:21:39 - cmdstanpy - INFO - Chain [1] done processing\n"
     ]
    },
    {
     "name": "stdout",
     "output_type": "stream",
     "text": [
      "Forecast for food_drink:\n",
      "           ds        yhat  yhat_lower  yhat_upper\n",
      "18 2018-09-30  339.564536   97.133983  580.208295\n",
      "19 2018-10-31  348.900687   83.316158  572.595798\n",
      "20 2018-11-30  357.935673  104.330656  611.221126\n",
      "21 2018-12-31  367.271825  107.354002  618.604094\n",
      "22 2019-01-31  376.607976  136.875000  633.021552\n",
      "23 2019-02-28  385.040630  139.786684  623.274373\n"
     ]
    },
    {
     "name": "stderr",
     "output_type": "stream",
     "text": [
      "12:21:39 - cmdstanpy - INFO - Chain [1] start processing\n",
      "12:21:39 - cmdstanpy - INFO - Chain [1] done processing\n"
     ]
    },
    {
     "name": "stdout",
     "output_type": "stream",
     "text": [
      "Forecast for signaling_and_security:\n",
      "           ds        yhat  yhat_lower   yhat_upper\n",
      "18 2018-09-30  594.968805   46.084187  1131.781083\n",
      "19 2018-10-31  621.888080   83.237771  1192.585102\n",
      "20 2018-11-30  647.938992   89.673554  1231.618690\n",
      "21 2018-12-31  674.858268  116.044926  1227.659397\n",
      "22 2019-01-31  701.777544  151.386974  1236.848439\n",
      "23 2019-02-28  726.091728  203.452021  1235.330380\n"
     ]
    },
    {
     "name": "stderr",
     "output_type": "stream",
     "text": [
      "12:21:39 - cmdstanpy - INFO - Chain [1] start processing\n"
     ]
    },
    {
     "name": "stdout",
     "output_type": "stream",
     "text": [
      "Forecast for books_imported:\n",
      "           ds        yhat  yhat_lower  yhat_upper\n",
      "14 2018-09-30  171.631866  -12.509553  365.739465\n",
      "15 2018-10-31  179.059044   -3.822766  375.708107\n",
      "16 2018-11-30  186.246635    3.160645  381.100611\n",
      "17 2018-12-31  193.673813   14.828083  380.525969\n",
      "18 2019-01-31  201.100991    4.893479  389.904673\n",
      "19 2019-02-28  207.809409    4.380937  386.782174\n"
     ]
    },
    {
     "name": "stderr",
     "output_type": "stream",
     "text": [
      "12:21:39 - cmdstanpy - INFO - Chain [1] done processing\n",
      "12:21:39 - cmdstanpy - INFO - Chain [1] start processing\n"
     ]
    },
    {
     "name": "stdout",
     "output_type": "stream",
     "text": [
      "Forecast for christmas_supplies:\n",
      "           ds        yhat  yhat_lower  yhat_upper\n",
      "16 2018-09-30  154.101727   13.585249  302.646786\n",
      "17 2018-10-31  156.547358    6.737852  320.415466\n",
      "18 2018-11-30  158.914097    4.411325  312.667700\n",
      "19 2018-12-31  161.359728    8.514225  317.070306\n",
      "20 2019-01-31  163.805359   12.351380  310.677550\n",
      "21 2019-02-28  166.014316   13.976055  315.845163\n"
     ]
    },
    {
     "name": "stderr",
     "output_type": "stream",
     "text": [
      "12:21:39 - cmdstanpy - INFO - Chain [1] done processing\n",
      "12:21:40 - cmdstanpy - INFO - Chain [1] start processing\n",
      "12:21:40 - cmdstanpy - INFO - Chain [1] done processing\n"
     ]
    },
    {
     "name": "stdout",
     "output_type": "stream",
     "text": [
      "Forecast for costruction_tools_tools:\n",
      "           ds        yhat  yhat_lower   yhat_upper\n",
      "14 2018-09-30  421.121729  -77.332110   952.535211\n",
      "15 2018-10-31  434.011214  -87.350683   944.885401\n",
      "16 2018-11-30  446.484909  -57.574463   988.525146\n",
      "17 2018-12-31  459.374394 -116.925630   986.667642\n",
      "18 2019-01-31  472.263880  -79.966584  1022.535248\n",
      "19 2019-02-28  483.905995  -43.724049  1022.140730\n"
     ]
    },
    {
     "name": "stderr",
     "output_type": "stream",
     "text": [
      "12:21:40 - cmdstanpy - INFO - Chain [1] start processing\n",
      "12:21:40 - cmdstanpy - INFO - Chain [1] done processing\n"
     ]
    },
    {
     "name": "stdout",
     "output_type": "stream",
     "text": [
      "Forecast for furniture_mattress_and_upholstery:\n",
      "           ds        yhat  yhat_lower  yhat_upper\n",
      "11 2018-08-31  228.400728   17.748664  444.166006\n",
      "12 2018-09-30  226.876892   19.491053  414.950749\n",
      "13 2018-10-31  225.302262   26.024557  423.924903\n",
      "14 2018-11-30  223.778426   30.586812  408.877843\n",
      "15 2018-12-31  222.203795   23.802748  420.112857\n",
      "16 2019-01-31  220.629165   18.009610  424.579638\n",
      "Forecast for la_cuisine:\n",
      "           ds        yhat  yhat_lower  yhat_upper\n",
      "9  2018-05-31  303.596301  193.637872  414.844467\n",
      "10 2018-06-30  317.144948  207.800881  424.301911\n",
      "11 2018-07-31  331.145216  214.428915  440.469506\n",
      "12 2018-08-31  345.145484  235.032710  448.102480\n",
      "13 2018-09-30  358.694131  245.624659  462.875941\n",
      "14 2018-10-31  372.694399  259.025040  485.730598\n"
     ]
    },
    {
     "name": "stderr",
     "output_type": "stream",
     "text": [
      "12:21:40 - cmdstanpy - INFO - Chain [1] start processing\n",
      "12:21:40 - cmdstanpy - INFO - Chain [1] done processing\n",
      "12:21:40 - cmdstanpy - INFO - Chain [1] start processing\n"
     ]
    },
    {
     "name": "stdout",
     "output_type": "stream",
     "text": [
      "Forecast for pc_gamer:\n",
      "           ds        yhat  yhat_lower  yhat_upper\n",
      "6  2018-09-30  300.115137  205.967591  390.568040\n",
      "7  2018-10-31  309.450204  221.707395  400.719178\n",
      "8  2018-11-30  318.484140  229.282855  413.856304\n",
      "9  2018-12-31  327.819207  235.172868  420.167505\n",
      "10 2019-01-31  337.154274  253.027374  428.743894\n",
      "11 2019-02-28  345.585947  251.303023  433.713326\n"
     ]
    },
    {
     "name": "stderr",
     "output_type": "stream",
     "text": [
      "12:21:41 - cmdstanpy - INFO - Chain [1] done processing\n",
      "12:21:41 - cmdstanpy - INFO - Chain [1] start processing\n",
      "12:21:41 - cmdstanpy - INFO - Chain [1] done processing\n"
     ]
    },
    {
     "name": "stdout",
     "output_type": "stream",
     "text": [
      "Forecast for arts_and_craftmanship:\n",
      "           ds        yhat  yhat_lower  yhat_upper\n",
      "6  2018-09-30  326.457432  193.219538  465.472164\n",
      "7  2018-10-31  336.706408  194.243883  463.190764\n",
      "8  2018-11-30  346.624772  210.261759  479.255380\n",
      "9  2018-12-31  356.873749  230.893343  490.878511\n",
      "10 2019-01-31  367.122725  228.262672  493.472658\n",
      "11 2019-02-28  376.379865  244.775398  514.715909\n"
     ]
    },
    {
     "name": "stderr",
     "output_type": "stream",
     "text": [
      "12:21:41 - cmdstanpy - INFO - Chain [1] start processing\n"
     ]
    },
    {
     "name": "stdout",
     "output_type": "stream",
     "text": [
      "Forecast for fashion_childrens_clothes:\n",
      "           ds       yhat  yhat_lower  yhat_upper\n",
      "6  2018-07-31  44.292965   10.574458   73.669389\n",
      "7  2018-08-31  40.839982    9.717286   68.861869\n",
      "8  2018-09-30  37.498386    6.603832   70.688410\n",
      "9  2018-10-31  34.045402    1.831158   66.551797\n",
      "10 2018-11-30  30.703806    0.538318   60.835423\n",
      "11 2018-12-31  27.250823   -1.791456   58.549750\n"
     ]
    },
    {
     "name": "stderr",
     "output_type": "stream",
     "text": [
      "12:21:41 - cmdstanpy - INFO - Chain [1] done processing\n",
      "12:21:41 - cmdstanpy - INFO - Chain [1] start processing\n",
      "12:21:41 - cmdstanpy - INFO - Chain [1] done processing\n"
     ]
    },
    {
     "name": "stdout",
     "output_type": "stream",
     "text": [
      "Forecast for small_appliances_home_oven_and_coffee:\n",
      "           ds         yhat  yhat_lower   yhat_upper\n",
      "11 2018-09-30  1711.121959  471.106229  2972.867535\n",
      "12 2018-10-31  1738.350286  491.019426  2976.739958\n",
      "13 2018-11-30  1764.700280  577.454846  2969.460787\n",
      "14 2018-12-31  1791.928607  522.281957  3023.915612\n",
      "15 2019-01-31  1819.156934  574.801873  3050.476493\n",
      "16 2019-02-28  1843.750262  561.219166  3006.495655\n"
     ]
    },
    {
     "name": "stderr",
     "output_type": "stream",
     "text": [
      "12:21:42 - cmdstanpy - INFO - Chain [1] start processing\n"
     ]
    },
    {
     "name": "stdout",
     "output_type": "stream",
     "text": [
      "Forecast for cds_dvds_musicals:\n",
      "           ds       yhat  yhat_lower  yhat_upper\n",
      "6  2018-05-31  81.311049   29.096120  133.961871\n",
      "7  2018-06-30  83.677021   30.129291  136.078361\n",
      "8  2018-07-31  86.121858   30.356723  138.815415\n",
      "9  2018-08-31  88.566695   34.093791  143.960612\n",
      "10 2018-09-30  90.932666   35.663491  143.469888\n",
      "11 2018-10-31  93.377504   40.736936  153.482283\n"
     ]
    },
    {
     "name": "stderr",
     "output_type": "stream",
     "text": [
      "12:21:42 - cmdstanpy - INFO - Chain [1] done processing\n",
      "12:21:42 - cmdstanpy - INFO - Chain [1] start processing\n",
      "12:21:42 - cmdstanpy - INFO - Chain [1] done processing\n"
     ]
    },
    {
     "name": "stdout",
     "output_type": "stream",
     "text": [
      "Forecast for construction_tools_lights:\n",
      "           ds         yhat  yhat_lower   yhat_upper\n",
      "14 2018-09-30  1015.874464  123.605980  1871.540954\n",
      "15 2018-10-31  1048.015725  153.777060  1999.864199\n",
      "16 2018-11-30  1079.120170  133.511786  2011.522848\n",
      "17 2018-12-31  1111.261430  168.182894  2008.705907\n",
      "18 2019-01-31  1143.402690  251.782230  1996.747526\n",
      "19 2019-02-28  1172.433506  207.824948  2132.362718\n"
     ]
    },
    {
     "name": "stderr",
     "output_type": "stream",
     "text": [
      "12:21:42 - cmdstanpy - INFO - Chain [1] start processing\n"
     ]
    },
    {
     "name": "stdout",
     "output_type": "stream",
     "text": [
      "Forecast for party_supplies:\n",
      "           ds        yhat  yhat_lower  yhat_upper\n",
      "12 2018-09-30  133.739542  -61.707385  318.764425\n",
      "13 2018-10-31  130.439545  -68.772810  319.818290\n",
      "14 2018-11-30  127.246000  -56.009820  318.213164\n",
      "15 2018-12-31  123.946003  -67.628442  308.911592\n",
      "16 2019-01-31  120.646006  -74.115581  322.163604\n",
      "17 2019-02-28  117.665364  -77.076876  310.806427\n"
     ]
    },
    {
     "name": "stderr",
     "output_type": "stream",
     "text": [
      "12:21:42 - cmdstanpy - INFO - Chain [1] done processing\n",
      "12:21:42 - cmdstanpy - INFO - Chain [1] start processing\n"
     ]
    },
    {
     "name": "stdout",
     "output_type": "stream",
     "text": [
      "Forecast for construction_tools_safety:\n",
      "           ds        yhat  yhat_lower   yhat_upper\n",
      "13 2018-09-30  714.522502 -114.503566  1611.905117\n",
      "14 2018-10-31  717.816343  -88.405100  1500.191163\n",
      "15 2018-11-30  721.003931  -88.562376  1632.859614\n",
      "16 2018-12-31  724.297772  -71.541424  1564.193032\n",
      "17 2019-01-31  727.591613  -32.204897  1555.166726\n",
      "18 2019-02-28  730.566695 -110.413649  1546.118325\n"
     ]
    },
    {
     "name": "stderr",
     "output_type": "stream",
     "text": [
      "12:21:43 - cmdstanpy - INFO - Chain [1] done processing\n",
      "12:21:43 - cmdstanpy - INFO - Chain [1] start processing\n",
      "12:21:43 - cmdstanpy - INFO - Chain [1] done processing\n"
     ]
    },
    {
     "name": "stdout",
     "output_type": "stream",
     "text": [
      "Forecast for flowers:\n",
      "           ds       yhat  yhat_lower  yhat_upper\n",
      "9  2018-08-31  64.004713   22.847728  102.544796\n",
      "10 2018-09-30  63.746962   25.017576  102.873914\n",
      "11 2018-10-31  63.480619   24.128543   99.533179\n",
      "12 2018-11-30  63.222867   24.800651  102.008449\n",
      "13 2018-12-31  62.956524   21.717695   99.473480\n",
      "14 2019-01-31  62.690181   23.790832  103.187978\n",
      "Forecast for kitchen_laptops_and_food_preparators:\n",
      "          ds        yhat  yhat_lower  yhat_upper\n",
      "3 2018-09-30  235.785535 -290.254561  705.654350\n",
      "4 2018-10-31   88.418590 -409.972947  570.453660\n",
      "5 2018-11-30  -54.194582 -550.916392  454.487344\n",
      "6 2018-12-31 -201.561527 -706.580791  295.712501\n",
      "7 2019-01-31 -348.928471 -848.859344  151.494832\n",
      "8 2019-02-28 -482.034099 -972.357963   28.286488\n"
     ]
    }
   ],
   "source": [
    "from prophet import Prophet\n",
    "\n",
    "# Dictionary to store forecasts for each category\n",
    "forecast_dict = {}\n",
    "\n",
    "# Loop through each product category\n",
    "for category in category_time_series['product_category_name'].unique():\n",
    "    # Filter data for the current category\n",
    "    category_data = category_time_series[category_time_series['product_category_name'] == category]\n",
    "    category_data = category_data.rename(columns={'order_purchase_timestamp': 'ds', 'total_revenue': 'y'})\n",
    "    \n",
    "    # Convert 'Customer_state' to numeric if it's categorical\n",
    "    category_data['customer_state'] = category_data['customer_state'].astype('category').cat.codes\n",
    "\n",
    "    # Initialize the Prophet model and add 'Customer_state' as a regressor\n",
    "    model = Prophet()\n",
    "    model.add_regressor('customer_state')\n",
    "    model.fit(category_data)\n",
    "\n",
    "    # Create a future DataFrame for predictions\n",
    "    future = model.make_future_dataframe(periods=6, freq='ME')\n",
    "\n",
    "    # Include future values for 'Customer_state' (use the last observed value for simplicity)\n",
    "    future['customer_state'] = category_data['customer_state'].iloc[-1]\n",
    "\n",
    "    # Generate forecasts\n",
    "    forecast = model.predict(future)\n",
    "\n",
    "    # Save the forecast in the dictionary\n",
    "    forecast_dict[category] = forecast[['ds', 'yhat', 'yhat_lower', 'yhat_upper']]\n",
    "\n",
    "    # Print the last 6 months of the forecast for the category\n",
    "    print(f\"Forecast for {category}:\")\n",
    "    print(forecast[['ds', 'yhat', 'yhat_lower', 'yhat_upper']].tail(6))\n"
   ]
  },
  {
   "cell_type": "code",
   "execution_count": 15,
   "id": "aff1cf56-244a-4337-9678-5a069d596b70",
   "metadata": {},
   "outputs": [
    {
     "data": {
      "text/html": [
       "\n",
       "        <iframe\n",
       "            width=\"100%\"\n",
       "            height=\"650\"\n",
       "            src=\"http://127.0.0.1:8052/\"\n",
       "            frameborder=\"0\"\n",
       "            allowfullscreen\n",
       "            \n",
       "        ></iframe>\n",
       "        "
      ],
      "text/plain": [
       "<IPython.lib.display.IFrame at 0x1fc096691f0>"
      ]
     },
     "metadata": {},
     "output_type": "display_data"
    }
   ],
   "source": [
    "from prophet import Prophet\n",
    "import dash\n",
    "from dash import dcc, html\n",
    "from dash.dependencies import Input, Output\n",
    "import plotly.graph_objects as go\n",
    "\n",
    "# Ensure the timestamp column is in datetime format\n",
    "\n",
    "# Dash app\n",
    "app = dash.Dash(__name__)\n",
    "\n",
    "# Layout\n",
    "app.layout = html.Div([\n",
    "    html.H1(\"Prophet Forecasting Interactive Dashboard\"),\n",
    "    \n",
    "    # Dropdown for product_category_name\n",
    "    html.Label(\"Select Product Category:\"),\n",
    "    dcc.Dropdown(\n",
    "        id='category-dropdown',\n",
    "        options=[{'label': cat, 'value': cat} for cat in category_time_series['product_category_name'].unique()],\n",
    "        value=category_time_series['product_category_name'].unique()[0]  # Default value\n",
    "    ),\n",
    "    \n",
    "    # Dropdown for customer_state\n",
    "    html.Label(\"Select Customer State:\"),\n",
    "    dcc.Dropdown(\n",
    "        id='state-dropdown',\n",
    "        options=[{'label': state, 'value': state} for state in category_time_series['customer_state'].unique()],\n",
    "        value=category_time_series['customer_state'].unique()[0]  # Default value\n",
    "    ),\n",
    "    \n",
    "    # Graph for visualization\n",
    "    dcc.Graph(id='forecast-graph')\n",
    "])\n",
    "\n",
    "@app.callback(\n",
    "    Output('forecast-graph', 'figure'),\n",
    "    [Input('category-dropdown', 'value'),\n",
    "     Input('state-dropdown', 'value')]\n",
    ")\n",
    "def update_graph(selected_category, selected_state):\n",
    "    # Filter the data based on selections\n",
    "    filtered_data = category_time_series[\n",
    "        (category_time_series['product_category_name'] == selected_category) &\n",
    "        (category_time_series['customer_state'] == selected_state)\n",
    "    ]\n",
    "    \n",
    "    if filtered_data.empty or len(filtered_data) < 5:\n",
    "        return go.Figure().update_layout(title=\"Not enough data for forecasting\")\n",
    "    \n",
    "    # Prepare data for Prophet\n",
    "    filtered_data = filtered_data.rename(columns={'order_purchase_timestamp': 'ds', 'total_revenue': 'y'})\n",
    "    filtered_data['customer_state'] = filtered_data['customer_state'].astype('category').cat.codes\n",
    "\n",
    "    # Initialize and fit the model\n",
    "    model = Prophet()\n",
    "    model.add_regressor('customer_state')\n",
    "    model.fit(filtered_data)\n",
    "    \n",
    "    # Create future dataframe\n",
    "    future = model.make_future_dataframe(periods=6, freq='ME')\n",
    "    future['customer_state'] = filtered_data['customer_state'].iloc[-1]  # Static value; modify as needed\n",
    "    \n",
    "    # Predict\n",
    "    forecast = model.predict(future)\n",
    "    \n",
    "    # Create the Plotly graph\n",
    "    fig = go.Figure()\n",
    "\n",
    "    # Add actual data (training)\n",
    "    fig.add_trace(go.Scatter(\n",
    "        x=filtered_data['ds'], \n",
    "        y=filtered_data['y'], \n",
    "        mode='lines+markers', \n",
    "        name='Actual'\n",
    "    ))\n",
    "    \n",
    "    # Add forecast data\n",
    "    fig.add_trace(go.Scatter(\n",
    "        x=forecast['ds'], \n",
    "        y=forecast['yhat'], \n",
    "        mode='lines', \n",
    "        name='Forecast'\n",
    "    ))\n",
    "\n",
    "    # Add confidence intervals\n",
    "    fig.add_trace(go.Scatter(\n",
    "        x=forecast['ds'], \n",
    "        y=forecast['yhat_upper'], \n",
    "        mode='lines', \n",
    "        line=dict(width=0),\n",
    "        showlegend=False\n",
    "    ))\n",
    "\n",
    "    fig.add_trace(go.Scatter(\n",
    "        x=forecast['ds'], \n",
    "        y=forecast['yhat_lower'], \n",
    "        mode='lines', \n",
    "        fill='tonexty', \n",
    "        name='Confidence Interval', \n",
    "        line=dict(width=0),\n",
    "        fillcolor='rgba(0,100,200,0.2)'\n",
    "    ))\n",
    "\n",
    "    # Update layout\n",
    "    fig.update_layout(\n",
    "        title=f\"Forecast for {selected_category} in {selected_state}\",\n",
    "        xaxis_title=\"Date\",\n",
    "        yaxis_title=\"Total Revenue\",\n",
    "        template=\"plotly_white\"\n",
    "    )\n",
    "    \n",
    "    return fig\n",
    "\n",
    "\n",
    "# Run the app\n",
    "if __name__ == '__main__':\n",
    "    app.run_server(host='127.0.0.1', port=8052, debug=True)"
   ]
  },
  {
   "cell_type": "code",
   "execution_count": 16,
   "id": "79bee8e8-7d96-44b3-85a1-53e744da2061",
   "metadata": {},
   "outputs": [
    {
     "name": "stderr",
     "output_type": "stream",
     "text": [
      "12:21:45 - cmdstanpy - INFO - Chain [1] start processing\n",
      "12:21:45 - cmdstanpy - INFO - Chain [1] done processing\n",
      "12:21:47 - cmdstanpy - INFO - Chain [1] start processing\n",
      "12:21:47 - cmdstanpy - INFO - Chain [1] done processing\n"
     ]
    },
    {
     "name": "stdout",
     "output_type": "stream",
     "text": [
      "Evaluation Metrics for health_beauty in SP:\n",
      "RMSE: 8840.37\n",
      "R²: -0.81\n",
      "Mean Actual Value: 38605.76\n"
     ]
    }
   ],
   "source": [
    "from sklearn.metrics import mean_squared_error, r2_score\n",
    "import numpy as np\n",
    "\n",
    "# Define a function for evaluation\n",
    "def evaluate_model(category, state):\n",
    "    # Filter the data\n",
    "    filtered_data = category_time_series[\n",
    "        (category_time_series['product_category_name'] == category) &\n",
    "        (category_time_series['customer_state'] == state)\n",
    "    ]\n",
    "\n",
    "    filtered_data = filtered_data.rename(columns={'order_purchase_timestamp': 'ds', 'total_revenue': 'y'})\n",
    "    filtered_data['customer_state'] = filtered_data['customer_state'].astype('category').cat.codes\n",
    "    \n",
    "          # Ensure there is enough data\n",
    "    if len(filtered_data) < 10:  # Minimum data points for split\n",
    "        raise ValueError(\"Not enough data to evaluate the model\")\n",
    "\n",
    "    # Split into training and testing sets\n",
    "    train_data = filtered_data.iloc[:-7]  # All but last 7 months\n",
    "    test_data = filtered_data.iloc[-7:]  # Last 7 months\n",
    "\n",
    "    # Train the Prophet model\n",
    "    model = Prophet()\n",
    "    model.add_regressor('customer_state')\n",
    "    model.fit(train_data)\n",
    "\n",
    "    # Predict on the test data\n",
    "    future = test_data[['ds', 'customer_state']].copy()  # Use test dates and customer_state\n",
    "    forecast = model.predict(future)\n",
    "\n",
    "    # Calculate RMSE\n",
    "    rmse = np.sqrt(mean_squared_error(test_data['y'], forecast['yhat']))\n",
    "    \n",
    "    # Calculate R²\n",
    "    r2 = r2_score(test_data['y'], forecast['yhat'])\n",
    "\n",
    "    # Calculate Mean\n",
    "    mean_actual = test_data['y'].mean()\n",
    "\n",
    "    print(f\"Evaluation Metrics for {category} in {state}:\")\n",
    "    print(f\"RMSE: {rmse:.2f}\")\n",
    "    print(f\"R²: {r2:.2f}\")\n",
    "    print(f\"Mean Actual Value: {mean_actual}\")\n",
    "    \n",
    "    return rmse, r2, mean_actual\n",
    "\n",
    "# Example usage\n",
    "category = 'health_beauty'\n",
    "state = 'SP'\n",
    "rmse, r2, mean_actual = evaluate_model(category, state)\n"
   ]
  },
  {
   "cell_type": "code",
   "execution_count": null,
   "id": "8b0f02be-dba4-4829-bf09-13bf9a679cde",
   "metadata": {},
   "outputs": [],
   "source": []
  }
 ],
 "metadata": {
  "kernelspec": {
   "display_name": "Python 3 (ipykernel)",
   "language": "python",
   "name": "python3"
  },
  "language_info": {
   "codemirror_mode": {
    "name": "ipython",
    "version": 3
   },
   "file_extension": ".py",
   "mimetype": "text/x-python",
   "name": "python",
   "nbconvert_exporter": "python",
   "pygments_lexer": "ipython3",
   "version": "3.12.3"
  }
 },
 "nbformat": 4,
 "nbformat_minor": 5
}
